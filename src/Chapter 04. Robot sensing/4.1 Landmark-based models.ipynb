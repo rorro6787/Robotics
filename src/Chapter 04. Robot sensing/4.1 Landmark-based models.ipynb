{
 "cells": [
  {
   "cell_type": "markdown",
   "metadata": {},
   "source": [
    "# 4.1 Landmark-based models\n",
    "\n",
    "In order to carry out primary tasks like localization or navigation, or more high-level tasks like interacting with humans, a mobile robot has to **perceive** its workspace. A variety of sensors can be used for that, as well as a number of probabilistic models for managing their behavior."
   ]
  },
  {
   "cell_type": "markdown",
   "metadata": {},
   "source": [
    "Typically, the sensors used onboard the robot do not deliver the exact truth of the quantities they are measuring, but a perturbed version. This is due to the working (physical) principles that govern the sensors behavior, and to the conditions of their workspaces (illumination, humidity, temperature, etc.). \n",
    "\n",
    "As an illustrative example of this, there is a popular European company called [Sick](https://www.sick.com/es/es/), which develops 2D LiDAR sensors (among other devices). One of its most popular sensors is the [TiM2xx one](https://www.sick.com/gb/en/detection-and-ranging-solutions/2d-lidar-sensors/tim2xx/tim240-2050300/p/p654443) (see left part of Fig.1), which can be easily integrable into a robotic platform. If we take a look at the specifications about the performance of such device, we can check how this uncertainty about the sensor measurements is explicitly specified (systematic error and statistical error), as well as how these values depend on environmental conditions (see right part of Fig.1). $\\\\[10pt]$\n",
    "\n",
    "<figure style=\"text-align:center\">\n",
    "  <img src=\"images/sick-laser.PNG\" alt=\"\">\n",
    "  <figcaption>Fig. 1: Left, TiM2xx sensor from Sick. Right, performance details of such sensor.</figcaption>\n",
    "</figure>    \n",
    "\n",
    "$\\\\[5pt]$To account for this behavior, sensors' measurements in probabilistic robotics will be modeled by... wait for it... the probability distribution $p(z|v)$, where z models the measurement and v is the ground truth."
   ]
  },
  {
   "cell_type": "markdown",
   "metadata": {},
   "source": [
    "## 4.1.1 Dealing with landmark-based models\n",
    "\n",
    "In different applications it is interesting for the robot to detect **landmarks** in its workspace and build internal representations of them, commonly referred to as maps. A landmark can be defined as a distinctive feature present in the environment, that can be used to perform localization, map building, or navigation, since they provide a fixed reference point in the environment. They can be of different nature:\n",
    "\n",
    "- **Natural landmarks**: mountains, trees, rivers, rocks, etc.\n",
    "- **Artificial landmarks**: buildings, signs, traffic lights, doors, windows, furniture, etc.\n",
    "  - ***Purpose-built landmarks***: QR codes, RFID tags, beacons, etc.\n",
    " \n",
    "In both scenarios there could be also extracted landmark or features like corners, blobs, etc., e.g. using a camera.\n",
    "\n",
    "In the case of maps consisting of a collection of landmarks $m=\\{m_i\\}, i=1,\\dots,N$, different types of sensors can be used to provide observations $z_i$ of those landmarks:\n",
    "\n",
    "- **Distance/range** (*e.g.* radio, GPS, etc.): $\\\\[2pt]$\n",
    "  $\\hspace{1cm}$ $z_i = d_i = h_i(x,m)+w_i$ $\\\\[2pt]$\n",
    "- **Bearing** (*e.g.* camera): $\\\\[2pt]$\n",
    "  $\\hspace{1cm}$$z_i = \\theta_i = h_i(x,m)+w_i$ $\\\\[2pt]$\n",
    "- **Distance/range and bearing** (*e.g.* stereo, features in a scan, etc.) $\\\\[2pt]$\n",
    "  $\\hspace{1cm}$$z_i = [d_i,\\theta_i]^T = h_i(x,m)+w_i$ *(in this case, $h_i(x,m)$ and $w_i$ are 2D vectors)* $\\\\[2pt]$\n",
    "\n",
    "where:\n",
    "\n",
    "- $z_i$ is an observation, $x$ is the sensor pose, and $m$ is the map of the environment,\n",
    "- $h(x,m)$ is the Observation (or measurement, or prediction) function: it predicts the value of the observation $z_i$ given the state values $x$ and $m$, and\n",
    "- $w$ is an error, modeled by a gaussian distribution as $w=[h(x,m)-z_i]\\sim N(O,Q)$, being $Q$ the uncertainty in the observation error. \n",
    "\n",
    "In this way, the probability distribution $p(z|x,m)$ modeling the sensor measurements results:\n",
    "\n",
    "$$\n",
    "p(z|x,m) = K \\exp\\{-\\frac{1}{2}[h(x,m)-z]^T Q^{-1} [h(x,m)-z]\\}\n",
    "$$\n",
    "\n",
    "\n",
    "Recall that this probability is used, for example, when estimating the robot pose at time instant $t$ using the Bayes Filter:\n",
    "\n",
    "$$\n",
    "Bel(x_t) = \\eta \\, p(z_t | x_t, m) \\int p(x_t | u_t, x_{t-1}) Bel(x_{t-1}) dx_{t-1}\n",
    "$$\n",
    "\n",
    "These types of maps and sensor measurements pose a new problem: **data association**, that is, with which landmark $m_i$ correspond the observation $z_i$ to: \n",
    "\n",
    "$$h_i(x,m)=h(x,m_i)$$\n",
    "\n",
    "This problem is usually addressed by applying Chi-squared tests, although for the shake of simplicity in this book we will consider it as solved. "
   ]
  },
  {
   "cell_type": "markdown",
   "metadata": {},
   "source": [
    "### Playing with landmarks and robot poses\n",
    "\n",
    "In the remaining of this section we will familiarize ourselves with the process of observing landmarks from robots located at certain poses, as well as the transformations needed to make use of these observations, that is, to express those observations into the world frame and backwards.\n",
    "\n",
    "Some relevant concepts:\n",
    "\n",
    "- **World frame**: $(x, y)$ coordinates from a selected point of reference $(0, 0)$ used to keep track of the robots pose and landmarks within the map.\n",
    "- **Observation**: Information from the real world provided by a sensor, from the point of view (*pov*) of a certain robot.\n",
    "- **Range-bearing sensor**: Sensor model being used in this lesson. This kind of sensors detect how far is an object $(d)$ and its orientation relative to the robot's one $(\\theta)$.\n",
    "\n",
    "The main tools to deal with those concepts are:\n",
    "\n",
    "- the composition of two poses.\n",
    "- the composition of a pose and a landmark.\n",
    "- the propagation of uncertainty through the Jacobians of these compositions."
   ]
  },
  {
   "cell_type": "markdown",
   "metadata": {},
   "source": [
    "We will address several problems of incremental complexity. In all of them, it is important to have in mind how the composition of a (robot) pose and a landmark point works:\n",
    "\n",
    "\n",
    "<center>\n",
    "    <a id=\"figure\"></a>\n",
    "    <img src=\"images/fig4-1.PNG\">\n",
    "    <figcaption>Fig. 1: Composition of a pose and a landmark point.</figcaption>\n",
    "</center>"
   ]
  },
  {
   "cell_type": "code",
   "execution_count": 1,
   "metadata": {},
   "outputs": [],
   "source": [
    "#%matplotlib widget\n",
    "%matplotlib inline\n",
    "\n",
    "# IMPORTS\n",
    "\n",
    "import math\n",
    "import numpy as np\n",
    "import matplotlib.pyplot as plt\n",
    "from scipy import stats\n",
    "\n",
    "import sys\n",
    "sys.path.append(\"..\")\n",
    "from utils.PlotEllipse import PlotEllipse\n",
    "from utils.DrawRobot import DrawRobot\n",
    "from utils.tcomp import tcomp\n",
    "from utils.tinv import tinv, jac_tinv1 as jac_tinv\n",
    "from utils.Jacobians import J1, J2"
   ]
  },
  {
   "cell_type": "markdown",
   "metadata": {},
   "source": [
    "### **<span style=\"color:green\"><b><i>ASSIGNMENT 1: Expressing an observed landmark in coordinates of the world frame</i></b></span>** <a id=\"4211\"></a> \n",
    "\n",
    "Let’s consider a robot R1 at a perfectly known pose $p_1 = [1, 2, 0.5]^T$ (no uncertainty at this point) which observes a landmark $m$ with a range-bearing (polar) sensor affected by a zero-mean Gaussian error with covariance $W_{1p} = diag\\left([0.25, 0.04]\\right)$. The sensor provides the measurement $z_{1p} = [4m., 0.7rad.]^T$. The scenario is the one in Fig. 2.\n",
    "\n",
    "<center>\n",
    "    <img src=\"./images/assignment_1.PNG\"/>\n",
    "    <figcaption>Fig 2. Illustration of the scenario in assignment 1.</figcaption>\n",
    "</center>\n",
    " \n",
    "**You are tasked to** compute the Gaussian probability distribution  (mean and covariance) of the landmark observation in the world frame (the same as the robot)  and plot its corresponding ellipse (in magenta, $\\sigma=1$). Concretely, you have to complete the ``to_world_frame()`` function, and modify the demo code to show the ellipse representing the uncertainty. \n",
    " \n",
    " Consider the following:\n",
    " \n",
    " - You can express a sensor measurement in polar coordinates ($z_p=[r,\\alpha]^T$) as cartesian coordinates ($z_c=[z_x,z_y]^T)$ by:\n",
    " \n",
    " $$\n",
    "     z_c = \\begin{bmatrix} z_x \\\\ z_y \\end{bmatrix} \n",
    "         = \\begin{bmatrix} r \\ cos\\alpha \\\\ r \\ sin\\alpha \\end{bmatrix} \n",
    "         = f(r,\\alpha)\n",
    " $$ $\\\\[5pt]$\n",
    " \n",
    " - While computing the covariance of the landmark observation, you have to start by computing the covariance of the observation in the Cartesian robot $R1$ frame. That is:\n",
    " \n",
    " $$  \n",
    " W_{c} = \\frac{\\partial z_c}{\\partial z_p} \\ W_{p} \\ \\frac{\\partial z_c}{\\partial z_p}^T = \\frac{\\partial f(r,\\alpha)}{\\partial \\{r,\\alpha\\}} \\ W_{p} \\ \\frac{\\partial f(r,\\alpha)}{\\partial \\{r,\\alpha\\}}^T\n",
    " $$\n",
    "\n",
    "Mathematical pill:\n",
    "\n",
    "$$ \n",
    "    F(x_1,\\dots,x_n)=\\begin{bmatrix}f_1 \\\\ \\vdots \\\\ f_m\\end{bmatrix} \\, \\Rightarrow \\, \n",
    "    \\frac{\\partial F(x_1,\\dots,x_n)}{\\partial\\{x_1,\\dots,x_n\\}} =\n",
    "    \\begin{bmatrix}\n",
    "        \\frac{\\partial f_1}{\\partial x_1} & \\frac{\\partial f_1}{\\partial x_2} & \\frac{\\partial f_1}{\\partial x_3} \\\\\n",
    "        \\frac{\\partial f_2}{\\partial x_1} & \\frac{\\partial f_2}{\\partial x_2} & \\frac{\\partial f_2}{\\partial x_3} \\\\\n",
    "        \\frac{\\partial f_3}{\\partial x_1} & \\frac{\\partial f_3}{\\partial x_2} & \\frac{\\partial f_3}{\\partial x_3}\n",
    "    \\end{bmatrix}\n",
    "$$\n",
    "   \n",
    "   Then you can get the convariance in the world frame as:\n",
    "   \n",
    "   $$ W_{z\\_w} = \\frac{\\partial f(p,z_c)}{\\partial p} \\ Q_{p1\\_w} \\ \\left( \\frac{\\partial f(p,z_c)}{\\partial p} \\right)^T +\n",
    "        \\frac{\\partial f(p,z_c)}{\\partial z_c} \\ W_{c} \\ \\left( \\frac{\\partial f(p,z_c)}{\\partial z_c} \\right)^T\n",
    "   $$\n",
    "   \n",
    "   where $f(p,z_c) = p \\oplus z_c$, that is, the composition of the pose and the landmark.\n",
    "   \n",
    "   - Note that $\\frac{\\partial f(p,z_c)}{\\partial p}$ and $\\frac{\\partial f(p,z_c)}{\\partial z_c}$ are the same Jacobians as previously used to compose two poses in *robot motion*, but with a reduced size since **while working with landmarks the orientation is meaningless, only the position matters**. The functions ``J1()`` and ``J2()`` implement these jacobians for you. $\\\\[5pt]$\n",
    "   - Note 2: this expression is just a rewriting of: $$ W_{z\\_w} = \\frac{\\partial f(p,z_c)}{\\partial {p,z_c}} \\ \\begin{bmatrix} Q_{p1\\_w} & \\mathbf{0} \\\\ \\mathbf{0} & W_{c} \\end{bmatrix} \\ \\left( \\frac{\\partial f(p,z_c)}{\\partial {p,z_c}} \\right)^T \n",
    "     $$\n",
    "   \n",
    "Example: $\\\\[5pt]$\n",
    "\n",
    "<center>\n",
    "    <img src=\"./images/result_1.png\" />\n",
    "    <figcaption>Fig 3. Pose of a robot (without uncertainty) and position of an observed landmark with its associated uncertainty.</figcaption>\n",
    "</center>"
   ]
  },
  {
   "cell_type": "code",
   "execution_count": 18,
   "metadata": {},
   "outputs": [],
   "source": [
    "def to_world_frame(p1_w, Qp1_w, z1_p_r, W1):\n",
    "    \"\"\" Covert the observation z1_p_r to the world frame\n",
    "    \n",
    "        Args:\n",
    "            p1_w: Pose of the robot(in world frame)\n",
    "            Qp1_w: Covariance of the robot\n",
    "            z1_p_r: Observation to a landmark (polar coordinates) from robots perspective\n",
    "            W1: Covariance of the sensor in polar coordinates\n",
    "    \n",
    "        Returns:\n",
    "            z1_w: Pose of landmark in the world frame\n",
    "            Wz1: Covariance associated to z1_w\n",
    "    \"\"\"\n",
    "    \n",
    "    # Definition of useful variables\n",
    "    r, a = z1_p_r[0,0], z1_p_r[1,0]\n",
    "    s, c = np.sin(a), np.cos(a)\n",
    "\n",
    "    # Jacobian to convert the measurement uncertainty from polar to cartesian coordinates\n",
    "    Jac_pol_car = np.array([\n",
    "        [c, -s*r],\n",
    "        [s, c*r]\n",
    "    ])\n",
    "\n",
    "    # Built a tuple with:\n",
    "    # z1_car_rel[0]: coordinates of the sensor measurement in cartesian coordinates relative to robot position\n",
    "    # z1_car_rel[1]: its associated uncertainty expressed in cartesian coordinates\n",
    "    z1_car_rel = (\n",
    "            np.vstack([r*c, r*s]), # coordinates\n",
    "            Jac_pol_car @ W1 @ np.transpose(Jac_pol_car) # uncertainty\n",
    "            )\n",
    "    \n",
    "    z1_ext = np.vstack([z1_car_rel[0], 0]) # Extends z1 for its usage in the Jacobian functions J1 and J2\n",
    "\n",
    "    # Build the jacobians \n",
    "    Jac_ap = J1(p1_w ,z1_ext)[0:2,:] # Jacobian for expressing the uncertainty in the robot pose in a global frame\n",
    "    Jac_aa = J2(p1_w ,z1_ext)[0:2,0:2] # This one expresses the uncertainty in the measurment in a global frame\n",
    "    \n",
    "    z1_w = tcomp(p1_w, z1_ext)[0:2,[0]] # Compute coordinates of the landmark in the world\n",
    "    Wz1 = (Jac_ap @ Qp1_w @ np.transpose(Jac_ap)) + (Jac_aa @ z1_car_rel[1] @ np.transpose(Jac_aa)) # Compute the uncertainty of the landmark in the world\n",
    "    \n",
    "    return z1_w, Wz1"
   ]
  },
  {
   "cell_type": "code",
   "execution_count": 19,
   "metadata": {},
   "outputs": [
    {
     "name": "stdout",
     "output_type": "stream",
     "text": [
      "----\tExercise 4.1.1\t----\n",
      "z1_w = [2.44943102 5.72815634]'\n",
      "Wz1_w = \n",
      "[[ 0.58879177 -0.13171532]\n",
      " [-0.13171532  0.30120823]]\n",
      "\n"
     ]
    },
    {
     "data": {
      "image/png": "[encoded data removed]",
      "text/plain": [
       "<Figure size 640x480 with 1 Axes>"
      ]
     },
     "metadata": {},
     "output_type": "display_data"
    }
   ],
   "source": [
    "# Robot\n",
    "p1_w = np.vstack([1, 2, 0.5]) # Robot R1 pose\n",
    "Qp1_w = np.zeros((3, 3)) # Robot pose convariance matrix (uncertainty)\n",
    "\n",
    "# Landmark observation\n",
    "z1_p_r = np.vstack([4., .7]) # Measurement/Observation\n",
    "W1 = np.diag([0.25, 0.04]) # Sensor noise covariance\n",
    "\n",
    "# Express the landmark observation in the world frame (mean and covariance)\n",
    "z1_w, Wz1 = to_world_frame(p1_w, Qp1_w, z1_p_r, W1)\n",
    "\n",
    "# Visualize the results\n",
    "fig, ax = plt.subplots()\n",
    "plt.xlim([-.5, 10])\n",
    "plt.ylim([-.5, 10])\n",
    "plt.grid()\n",
    "plt.tight_layout()\n",
    "\n",
    "DrawRobot(fig, ax, p1_w, label='R1', color='blue')\n",
    "    \n",
    "ax.plot(z1_w[0, 0], z1_w[1, 0], 'o', label='Z1', color='green')\n",
    "PlotEllipse(fig, ax, z1_w, Wz1, color='green')\n",
    "\n",
    "plt.legend()\n",
    "print('----\\tExercise 4.1.1\\t----\\n'+\n",
    "      'z1_w = {}\\'\\n'.format(z1_w.flatten())\n",
    "      + 'Wz1_w = \\n{}\\n'.format(Wz1))"
   ]
  },
  {
   "cell_type": "markdown",
   "metadata": {},
   "source": [
    "<span style=\"color:blue\">Expected results for demo:</span>\n",
    "\n",
    "\n",
    "```\n",
    "---- Exercise 4.1.1 ----\n",
    "z1_w = [2.44943102 5.72815634]'\n",
    "Wz1_w = \n",
    "[[ 0.58879177 -0.13171532]\n",
    " [-0.13171532  0.30120823]]\n",
    "```"
   ]
  },
  {
   "cell_type": "markdown",
   "metadata": {},
   "source": [
    "### **<span style=\"color:green\"><b><i>ASSIGNMENT 2: Adding uncertainty to the robot position</i></b></span>**\n",
    "\n",
    "Now, let’s assume that the robot pose is not known, but it is a RV that follows a\n",
    "Gaussian probability distribution: $p_1 \\sim N([1, 2, 0.5]^T, \\Sigma_1)$ with $\\Sigma_1 = diag([0.08,0.6,\n",
    "0.02 ])$.\n",
    "\n",
    "1. Compute the covariance matrix $\\Sigma_{m1}$ of the landmark in the world frame and plot it as an ellipse centered at the mean $m_1$ (in green, $sigma= 1$). Plot also the covariance of the robot pose (in blue, $sigma= 1$).\n",
    "     \n",
    "2. Compare the covariance with that obtained in the previous case.  $\\\\[5pt]$\n",
    "   \n",
    "Example: $\\\\[5pt]$\n",
    "\n",
    "<center>\n",
    "    <img src=\"./images/result_2.png\" />\n",
    "    <figcaption>Fig 4. Pose of a robot and position of an observed landmark, along with their associated uncertainties.</figcaption>\n",
    "</center>"
   ]
  },
  {
   "cell_type": "code",
   "execution_count": 20,
   "metadata": {},
   "outputs": [
    {
     "name": "stdout",
     "output_type": "stream",
     "text": [
      "---- Exercise 4.1.2 ----\n",
      "Wz1_w = \n",
      "[[ 0.94677477 -0.23978943]\n",
      " [-0.23978943  0.94322523]]\n",
      "\n"
     ]
    },
    {
     "data": {
      "image/png": "[encoded data removed]",
      "text/plain": [
       "<Figure size 640x480 with 1 Axes>"
      ]
     },
     "metadata": {},
     "output_type": "display_data"
    }
   ],
   "source": [
    "# Robot\n",
    "p1_w = np.vstack([1, 2, 0.5]) # Robot R1 pose\n",
    "Qp1_w = np.diag([0.08,0.6,0.02])  # Robot pose convariance matrix (uncertainty)\n",
    "\n",
    "# Landmark observation\n",
    "z1_p_r = np.vstack([4., .7]) # Measurement/Observation\n",
    "W1 = np.diag([0.25, 0.04]) # Sensor noise covariance\n",
    "\n",
    "# Express the landmark observation in the world frame (mean and covariance)\n",
    "z1_w, Wz1 = to_world_frame(p1_w, Qp1_w, z1_p_r, W1)\n",
    "\n",
    "# MATPLOTLIB\n",
    "fig, ax = plt.subplots()\n",
    "plt.xlim([-.5, 10])\n",
    "plt.ylim([-.5, 10])\n",
    "plt.grid()\n",
    "plt.tight_layout()\n",
    "\n",
    "fig.canvas.draw()\n",
    "\n",
    "DrawRobot(fig, ax, p1_w, label='R1', color='red')  \n",
    "PlotEllipse(fig, ax, p1_w, Qp1_w, color='red')\n",
    "\n",
    "ax.plot(z1_w[0, 0], z1_w[1, 0], 'o', label='Z1', color='green')\n",
    "PlotEllipse(fig, ax, z1_w, Wz1, color='green')\n",
    "\n",
    "plt.legend()\n",
    "print('---- Exercise 4.1.2 ----\\n'+\n",
    "      'Wz1_w = \\n{}\\n'.format(Wz1))\n"
   ]
  },
  {
   "cell_type": "markdown",
   "metadata": {},
   "source": [
    "<span style=\"color:blue\">Expected results for demo:</span>\n",
    "\n",
    "```\n",
    "---- Exercise 4.1.2 ----\n",
    "Wz1_w = \n",
    "[[ 0.94677477 -0.23978943]\n",
    " [-0.23978943  0.94322523]]\n",
    "```"
   ]
  },
  {
   "cell_type": "markdown",
   "metadata": {},
   "source": [
    "### **<span style=\"color:green\"><b><i>ASSIGNMENT 3: Getting the relative pose between two robots</i></b></span>** \n",
    "\n",
    "Another robot `R2` is at pose $p_2 \\sim ([6m., 4m., 2.1rad.]^T, \\Sigma_2)$ with $\\Sigma_2 = diag([0.20,0.09,\n",
    " 0.03])$. Plot `p2` and its ellipse (covariance) in green ($sigma=1$). **Compute the relative pose `p12` between `R1` and `R2`**, including its associated uncertainty. This scenario is shown in Fig. 5.\n",
    " \n",
    "<center>\n",
    "    <img src=\"./images/assignment_3.png\"/>\n",
    "    <figcaption>Fig 5. Illustration of the scenario in this assignment.</figcaption>\n",
    "</center>\n",
    " \n",
    " This relative pose can be obtained in two different ways:\n",
    " - **Through the composition of poses**, but using $\\ominus p1$ instead of $p1$. Implement it in ``inverse_composition1()``.\n",
    " \n",
    " Mean: \n",
    " \n",
    " $$\n",
    " p12 = \\ominus p1 \\oplus p2 = f(\\ominus p1, p2) = \n",
    " \\begin{bmatrix} \n",
    "  x_{\\ominus p1} + x_{p2} cos \\theta_{\\ominus p1} - y_{p2} sin \\theta_{\\ominus p1} \\\\\n",
    "  y_{\\ominus p1} + x_{p2} sin \\theta_{\\ominus p1} + y_{p2} cos \\theta_{\\ominus p1} \\\\\n",
    "  \\theta_{\\ominus p1} + \\theta_{p2}\n",
    " \\end{bmatrix}\n",
    " $$\n",
    " \n",
    " Covariance:\n",
    " \n",
    " $$\n",
    " \\Sigma_{p12} = \\frac{\\partial p12}{\\partial \\ominus p1} \\frac{\\ominus p1}{\\partial p1} \\Sigma_{p1} \\frac{\\ominus p1}{\\partial p1}^T \\frac{\\partial p12}{\\partial \\ominus p1}^T \n",
    " +\n",
    " \\frac{\\partial p12}{\\partial p2} \\Sigma_{p2}  \\frac{\\partial p12}{\\partial p2}^T\n",
    " \\\\\n",
    " \\text{Applying the Chain rule} \\rightarrow \\Sigma_{p12} = \\frac{\\partial p12}{\\partial \\ominus p1} \\Sigma_{\\ominus p1} \\frac{\\partial p12}{\\partial \\ominus p1}^T\n",
    " +\n",
    " \\frac{\\partial p12}{\\partial p2} \\Sigma_{p2}  \\frac{\\partial p12}{\\partial p2}^T\n",
    " $$\n",
    " \n",
    " Being:\n",
    " \n",
    " $$\n",
    " \\frac{\\partial p12}{\\partial \\ominus p1} = \n",
    " \\begin{bmatrix}\n",
    " 1 & 0 & -x_{p2} sin \\theta_{\\ominus p1} - y_{p2} cos \\theta_{\\ominus p1} \\\\\n",
    " 0 & 1 & x_{p2} cos \\theta_{\\ominus p1} - y_{p2} sin \\theta_{\\ominus p1} \\\\\n",
    " 0 & 0 & 1\n",
    " \\end{bmatrix}  \n",
    " \\; \\; \\; \\; \\; \\frac{\\partial p12}{\\partial p2} = \n",
    " \\begin{bmatrix}\n",
    "cos \\theta_{\\ominus p1} & -sin \\theta_{\\ominus p1} & 0\\\\\n",
    "sin \\theta_{\\ominus p1} & cos \\theta_{\\ominus p1} & 0\\\\\n",
    " 0 & 0 & 1\n",
    " \\end{bmatrix}\n",
    "$$ $\\\\[5pt]$\n",
    "\n",
    "$$\n",
    " \\frac{\\partial \\ominus p1}{\\partial p1} = \n",
    " \\begin{bmatrix}\n",
    " -cos \\theta_{p1} & -sin \\theta_{p1} & x_{p1} sin \\theta_{p1} - y_{p1} cos \\theta_{p1} \\\\\n",
    " sin \\theta_{p1} & -cos \\theta_{p1} & x_{p1} cos \\theta_{p1} + y_{p1} sin \\theta_{p1}\\\\\n",
    " 0 & 0 & -1 \\\\\n",
    " \\end{bmatrix}\n",
    " \\; \\; \\; \\; \\; \\Sigma_{\\ominus p1} = \\frac{\\partial \\ominus p1}{\\partial p1} \\Sigma_{p1} \\frac{\\partial \\ominus p1}{\\partial p1}^T\n",
    " $$ $\\\\[5pt]$\n",
    " \n",
    "  - **Using the inverse composition of poses**, that is $p12 = \\ominus p1 \\oplus p2 = p2 \\ominus p1$. This one is given for you in ``inverse_composition2()``."
   ]
  },
  {
   "cell_type": "code",
   "execution_count": 24,
   "metadata": {},
   "outputs": [],
   "source": [
    "def inverse_composition1(p1_w, Qp1_w, p2_w, Qp2_w):\n",
    "    jac_inv_p = jac_tinv(p1_w)\n",
    "\n",
    "    inv_r1 = (\n",
    "        tinv(p1_w),\n",
    "        jac_inv_p @ Qp1_w @ jac_inv_p.T\n",
    "    )\n",
    "\n",
    "    jac_p12_inv = J1(inv_r1[0], p2_w)\n",
    "    jac_p12_p2 = J2(inv_r1[0], p2_w)\n",
    "\n",
    "    p12_w = tcomp(inv_r1[0], p2_w)\n",
    "        \n",
    "    Qp12_w = (\n",
    "            jac_p12_inv@inv_r1[1]@np.transpose(jac_p12_inv)\n",
    "            + jac_p12_p2@Qp2_w@np.transpose(jac_p12_p2)\n",
    "        )\n",
    "    \n",
    "    return p12_w, Qp12_w"
   ]
  },
  {
   "cell_type": "code",
   "execution_count": 22,
   "metadata": {},
   "outputs": [],
   "source": [
    "def inverse_composition2(p1_w, Qp1_w, p2_w, Qp2_w):\n",
    "    dx, dy = p2_w[0, 0]-p1_w[0, 0], p2_w[1, 0]-p1_w[1, 0]\n",
    "    a = p2_w[2, 0] - p1_w[2, 0]\n",
    "    c, s = np.cos(p1_w[2, 0]), np.sin(p1_w[2, 0])\n",
    "\n",
    "    p12_w = np.array([\n",
    "        [dx*c + dy*s],\n",
    "        [-dx*s + dy*c],\n",
    "        [a]])\n",
    "    \n",
    "    jac_p12_r1 = np.array([\n",
    "        [-c, -s, -dx*s + dy*c],\n",
    "        [s, -c, -dx*c - dy*s],\n",
    "        [0, 0, -1]\n",
    "    ])\n",
    "\n",
    "    jac_p12_r2 = np.array([\n",
    "        [c, s, 0],\n",
    "        [-s, c, 0],\n",
    "        [0, 0, -1]\n",
    "    ])\n",
    "\n",
    "    #jac_p1_pinv = np.linalg.inv(jac_tinv(r1[0]))\n",
    "\n",
    "    Qp12_w = jac_p12_r1@Qp1_w@jac_p12_r1.T + jac_p12_r2@Qp2_w@jac_p12_r2.T\n",
    "\n",
    "    return p12_w, Qp12_w"
   ]
  },
  {
   "cell_type": "code",
   "execution_count": 25,
   "metadata": {},
   "outputs": [
    {
     "name": "stdout",
     "output_type": "stream",
     "text": [
      "----\tExercise 4.1.3 with method 1\t----\n",
      "p12_w = [ 5.34676389 -0.64196257  1.6       ]'\n",
      "Qp12_w = \n",
      "[[0.38248035 0.24115    0.01283925]\n",
      " [0.24115    1.16751965 0.10693528]\n",
      " [0.01283925 0.10693528 0.05      ]]\n",
      "\n",
      "----\tExercise 4.1.3 with method 2\t----\n",
      "p12_w = [ 5.34676389 -0.64196257  1.6       ]'\n",
      "Qp12_w = \n",
      "[[0.38248035 0.24115    0.01283925]\n",
      " [0.24115    1.16751965 0.10693528]\n",
      " [0.01283925 0.10693528 0.05      ]]\n",
      "\n"
     ]
    }
   ],
   "source": [
    "# Robot R1\n",
    "p1_w = np.vstack([1., 2., 0.5])\n",
    "Qp1_w = np.diag([0.08, 0.6, 0.02])\n",
    "\n",
    "# Robot R2\n",
    "p2_w = np.vstack([6., 4., 2.1])\n",
    "Qp2_w = np.diag([0.20, 0.09, 0.03])\n",
    "\n",
    "# Obtain the relative pose p12 between both robots through the composition of poses\n",
    "p12_w, Qp12_w = inverse_composition1(p1_w, Qp1_w, p2_w, Qp2_w)\n",
    "print( '----\\tExercise 4.1.3 with method 1\\t----\\n'+\n",
    "        'p12_w = {}\\'\\n'.format(p12_w.flatten())+\n",
    "        'Qp12_w = \\n{}\\n'.format(Qp12_w))\n",
    "\n",
    "# Obtain the relative pose p12 between both robots through the inverse composition of poses\n",
    "p12_w, Qp12_w = inverse_composition2(p1_w, Qp1_w, p2_w, Qp2_w)\n",
    "print( '----\\tExercise 4.1.3 with method 2\\t----\\n'+\n",
    "        'p12_w = {}\\'\\n'.format(p12_w.flatten())+\n",
    "        'Qp12_w = \\n{}\\n'.format(Qp12_w))"
   ]
  },
  {
   "cell_type": "markdown",
   "metadata": {},
   "source": [
    "<span style=\"color:blue\">Expected results:</span>\n",
    " ```\n",
    " p12_w = [ 5.34676389 -0.64196257  1.6       ]'\n",
    " \n",
    " Qp12_w = \n",
    " [[0.38248035 0.24115    0.01283925]\n",
    " [0.24115    1.16751965 0.10693528]\n",
    " [0.01283925 0.10693528 0.05      ]]\n",
    " ```"
   ]
  },
  {
   "cell_type": "markdown",
   "metadata": {},
   "source": [
    "### **<span style=\"color:green\"><b><i>ASSIGNMENT 4: Predicting an observation from the second robot</i></b></span>** \n",
    "\n",
    "According to the information (provided by R1) that we have about the position of the landmark $m$ in the world coordinates (its location $z_{1\\_w}$ and its associated uncertainty $W_{z_1\\_w}$), compute the *predicted observation* distribution of $z_{2p} =[r, \\alpha] \\sim N(z_{2p}, W_{2p})$ as taken by a range-bearing sensor mounted on `R2`. The image below shows this scenario.\n",
    "\n",
    "<center>\n",
    "    <img src=\"./images/assignment_4.png\"/>\n",
    "    <figcaption>Fig 6. Illustration of the scenario in assignment 4.</figcaption>\n",
    "</center>\n",
    "\n",
    "\n",
    "Consider the following:\n",
    " \n",
    " - The range-bearing model for taking measurements is *(Note: use [`np.arctan2()`](https://numpy.org/doc/stable/reference/generated/numpy.arctan2.html) for computing the angle. At this point, ignore the noise $w_i$)*:\n",
    " \n",
    " $$\n",
    " z_i = \\begin{bmatrix} r_i \\\\ \\alpha_i \\end{bmatrix} = \n",
    " f(p,z) =\n",
    " h(x,m_i) + w_i = \n",
    " \\begin{bmatrix} \\sqrt{(x_i-x)^2+(y_i-y)^2} \\\\ atan(\\frac{y_i-y}{x_i-x}) - \\theta \\end{bmatrix} \n",
    " + w_i \n",
    " $$ $\\\\[5pt]$\n",
    " \n",
    " - We need to compute the covariance of the predicted observation in Polar  coordinates $(W_{2p})$. For that, use the following: $\\\\[10pt]$\n",
    " \n",
    "    $$ W_{z2\\_c} = \\frac{\\partial f(p2,z_{1\\_w})}{\\partial \\ominus p2} \\frac{\\ominus p2}{\\partial p2} \\ Q_{p2\\_w} \\ \\frac{\\ominus p2}{\\partial p2}^T \\ \\left( \\frac{\\partial f(p2,z_{1\\_w})}{\\partial p} \\right)^T +\n",
    "        \\frac{\\partial f(p2,z_{1\\_w})}{\\partial z_{1\\_w}} \\ W_{z_1\\_w} \\ \\left( \\frac{\\partial f(p2,z_{1\\_w})}{\\partial z_{1\\_w}} \\right)^T\n",
    "   $$\n",
    "   \n",
    "    $$\n",
    "  \\text{Applying the Chain rule} \\rightarrow W_{z2\\_c} = \\frac{\\partial f(p2,z_{1\\_w})}{\\partial \\ominus p2} \\Sigma_{\\ominus p2} \\frac{\\partial f(p2,z_{1\\_w})}{\\partial \\ominus p2}^T\n",
    " +\n",
    " \\frac{\\partial f(p2,z_{1\\_w})}{\\partial p2} \\ W_{z_1\\_w} \\ \\frac{\\partial f(p2,z_{1\\_w})}{\\partial p2}^T\n",
    " $$\n",
    "  \n",
    "Once you have the covariance expressed in cartesian coordinates, you can express it in polars by means of the following Jacobian:\n",
    "\n",
    " $$\n",
    "     \\frac{\\partial{p}}{\\partial{c}} = \n",
    "     \\begin{bmatrix}\n",
    "         \\cos{(\\alpha+\\theta)}  & \\sin{(\\alpha+\\theta)} \\\\\n",
    "         -\\sin{(\\alpha+\\theta)} / r  & \\cos{(\\alpha+\\theta)} / r\n",
    "     \\end{bmatrix}\n",
    " $$"
   ]
  },
  {
   "cell_type": "code",
   "execution_count": 30,
   "metadata": {},
   "outputs": [],
   "source": [
    "def predicted_obs_from_pov(p1_w, Qp1_w, z1_w, Wz1_w):\n",
    "    \"\"\" Method to translate a pose+covariance in the world frame to an observation.\n",
    "    \n",
    "        This method only translated the landmark to the pov of the robot.\n",
    "        It does not simulate a new observation.\n",
    "        \n",
    "        Args:\n",
    "            p1_w: Pose of the robot which acts as pov\n",
    "            Qp1_w: Covariance of the robot\n",
    "            z1_w: Landmark observed in cartesian coordinates(world frame)\n",
    "            Wz1_w: Covariance associated to the landmark.\n",
    "        Returns:\n",
    "            z2_pr: Expected observation of z1 from pov of p1_w\n",
    "            W2_p: Covariance associated to z2_pr\n",
    "    \"\"\"\n",
    "\n",
    "    # Take a measurement using the range-bearing model\n",
    "    z2_pr = np.vstack([\n",
    "            np.sqrt((z1_w[0] - p1_w[0])**2 + (z1_w[1] - p1_w[1])**2),\n",
    "            np.arctan2(z1_w[1] - p1_w[1], z1_w[0] - p1_w[0]) - p1_w[2]\n",
    "        ])\n",
    "    \n",
    "    # Obtain the uncertainty in the R2 reference frame using the composition of a pose and a landmark: \n",
    "    z1_ext = np.vstack([z1_w, 0]) # Prepare position and uncertainty shapes to the ones expected by inverse_composition\n",
    "    Wz1_w_ext = np.pad(Wz1_w, [(0, 1), (0, 1)], mode='constant')\n",
    "    _, Wz1_r = inverse_composition1(p1_w, Qp1_w, z1_ext, Wz1_w_ext)\n",
    "    W2_c = Wz1_r[0:2,0:2]\n",
    "      \n",
    "    # Jacobian from cartesian to polar at z2p_r\n",
    "    theta = z2_pr[1, 0] + p1_w[2, 0] \n",
    "    s, c = np.sin(theta), np.cos(theta)\n",
    "    r = z2_pr[0, 0]\n",
    "\n",
    "    Jac_car_pol = np.array([\n",
    "        [c, s],\n",
    "        [-s/r, c/r]\n",
    "    ])\n",
    "\n",
    "    # Finally, propagate the uncertainty to polar coordinates in the\n",
    "    # robot frame\n",
    "    W2_p = Jac_car_pol @ W2_c @ np.transpose(Jac_car_pol)\n",
    "    \n",
    "    return z2_pr, W2_p"
   ]
  },
  {
   "cell_type": "code",
   "execution_count": 31,
   "metadata": {},
   "outputs": [
    {
     "name": "stdout",
     "output_type": "stream",
     "text": [
      "---- Exercise 4.1.4 ----\n",
      "z2p_r = [3.94880545 0.58862004]'\n",
      "W2_p = \n",
      "[[1.41886714 0.01057848]\n",
      " [0.01057848 0.07881227]]\n",
      "\n"
     ]
    }
   ],
   "source": [
    "p2_w = np.vstack([6., 4., 2.1])\n",
    "Qp2_w = np.diag([0.20, 0.09, 0.03])\n",
    "\n",
    "z2_pr, W2_p = predicted_obs_from_pov(p2_w, Qp2_w, z1_w, Wz1)\n",
    "print( '---- Exercise 4.1.4 ----\\n'+\n",
    "    'z2p_r = {}\\'\\n'.format(z2_pr.flatten())+\n",
    "    'W2_p = \\n{}\\n'.format(W2_p)    \n",
    ")"
   ]
  },
  {
   "cell_type": "markdown",
   "metadata": {},
   "source": [
    "<span style=\"color:blue\">Expected output:</span>\n",
    "```\n",
    "---- Exercise 4.1.4 ----\n",
    "z2p_r = [3.94880545 0.58862004]'\n",
    "W2_p = \n",
    "[[1.41886714 0.01057848]\n",
    " [0.01057848 0.07881227]]\n",
    "```"
   ]
  },
  {
   "cell_type": "markdown",
   "metadata": {},
   "source": [
    "### **<span style=\"color:green\"><b><i>ASSIGNMENT 5: Combining observations of the same landmark</i></b></span>** \n",
    "\n",
    "Assume now that a measurement $z_2 = [4 m., 0.3 rad.]^T$ of the landmark is taken from R2 with a sensor having the same precision as that of R1 ($W_{2p}= W_{1p}$). **You have to**:\n",
    "\n",
    "1. Use the previously implemented `to_world_frame()` function to compute the position and uncertainty about both measurements ($z1$ and $z2$) in the world frame.\n",
    "2. Plot the robots and the two measurements along with their uncertainty (ellipses) in the world frame.\n",
    "3. Combine both observations within the `combine_pdfs()` function, and show the resultant combined observation along with its associated uncertainty.\n",
    "    \n",
    "<figure style=\"text-align:center\">\n",
    "  <img src=\"images/fig4-1-2.png\" width=\"400\" alt=\"\">\n",
    "  <figcaption>Fig. 7: Results from the last exercise.</figcaption>\n",
    "</figure>    "
   ]
  },
  {
   "cell_type": "code",
   "execution_count": 32,
   "metadata": {},
   "outputs": [],
   "source": [
    "def combine_pdfs(z1_w, Wz1_w, z2_w, Wz2_w):\n",
    "    \"\"\" Method to combine the pdfs associated with two observations of the same landmark.  \n",
    "        \n",
    "        Args:            \n",
    "            z1_w: Landmark observed in cartesian coordinates(world frame) from Robot 1\n",
    "            Wz1_w: Covariance associated to the landmark.\n",
    "            z1_w: Landmark observed in cartesian coordinates(world frame) from Robot 2\n",
    "            Wz2_w: Covariance associated to the landmark.\n",
    "        Returns:\n",
    "            z: Combined observation\n",
    "            W_z: Uncertainty associated to z\n",
    "    \"\"\"\n",
    "     \n",
    "    # Implement the needed code here\n",
    "    W_z = np.linalg.inv(np.linalg.inv(Wz1_w) + np.linalg.inv(Wz2_w))\n",
    "\n",
    "    W_z = W_z + np.zeros((2,2))\n",
    "    z = W_z @ (np.linalg.inv(Wz1_w) @ z1_w + np.linalg.inv(Wz2_w) @ z2_w)\n",
    "\n",
    "    return z, W_z\n",
    "    "
   ]
  },
  {
   "cell_type": "code",
   "execution_count": 33,
   "metadata": {},
   "outputs": [
    {
     "name": "stdout",
     "output_type": "stream",
     "text": [
      "----\tExercise 4.1.5\t----\n",
      "z2_w = [3.05042514 6.70185272]'\n",
      "Qz2 = \n",
      "[[0.84693794 0.4333316 ]\n",
      " [0.4333316  0.81306206]]\n",
      "\n",
      "----\tExercise 4.1.5 part 2\t----\n",
      "z_w = [2.58757252 6.15534036]'\n",
      "Wz_w = \n",
      "[[0.37966125 0.07773125]\n",
      " [0.07773125 0.36999739]]\n",
      "\n"
     ]
    },
    {
     "data": {
      "image/png": "[encoded data removed]",
      "text/plain": [
       "<Figure size 640x480 with 1 Axes>"
      ]
     },
     "metadata": {},
     "output_type": "display_data"
    }
   ],
   "source": [
    "z2_p_r = np.vstack([4., .3])\n",
    "Wz2_p_r = np.diag([0.25, 0.04])\n",
    "\n",
    "z1_w, Qz1 = to_world_frame(p1_w, Qp1_w, z1_p_r, W1)\n",
    "z2_w, Qz2 = to_world_frame(p2_w, Qp2_w, z2_p_r, W1)\n",
    "\n",
    "# Show results\n",
    "fig, ax = plt.subplots()\n",
    "plt.xlim([-.5, 10])\n",
    "plt.ylim([-.5, 10])\n",
    "plt.grid()\n",
    "plt.tight_layout()\n",
    "\n",
    "fig.canvas.draw()\n",
    "\n",
    "DrawRobot(fig, ax, p1_w, label='R1', color='blue')\n",
    "PlotEllipse(fig, ax, p1_w, Qp1_w, color='blue')\n",
    "\n",
    "DrawRobot(fig, ax, p2_w, label='R2', color='green')\n",
    "PlotEllipse(fig, ax, p2_w, Qp2_w, color='green')\n",
    "   \n",
    "ax.plot(z1_w[0], z1_w[1], 'o', label='Z1', color='blue')\n",
    "PlotEllipse(fig, ax, z1_w, Qz1, color='blue')\n",
    "          \n",
    "ax.plot(z1_w[0], z1_w[1], 'o', label='Z2', color='green')\n",
    "PlotEllipse(fig, ax, z2_w, Qz2, color='green')\n",
    "\n",
    "z_w, Wz_w = combine_pdfs(z1_w, Qz1, z2_w, Qz2)\n",
    "ax.plot(z_w[0, 0], z_w[1, 0], 'o', label='Z3', color='red')\n",
    "PlotEllipse(fig, ax, z_w, Wz_w, color='red')\n",
    "          \n",
    "plt.legend()\n",
    "\n",
    "# Print results\n",
    "print( '----\\tExercise 4.1.5\\t----\\n'+\n",
    "    'z2_w = {}\\'\\n'.format(z2_w.flatten())+\n",
    "    'Qz2 = \\n{}\\n'.format(Qz2)\n",
    "    )\n",
    "\n",
    "# Print results\n",
    "print( '----\\tExercise 4.1.5 part 2\\t----\\n'+\n",
    "    'z_w = {}\\'\\n'.format(z_w.flatten())+\n",
    "    'Wz_w = \\n{}\\n'.format(Wz_w)\n",
    "    )"
   ]
  },
  {
   "cell_type": "markdown",
   "metadata": {},
   "source": [
    "<span style=\"color:blue\">Expected ouputs:</span>\n",
    "\n",
    "### Sensor measurement from R2\n",
    "\n",
    "```\n",
    "z2_w = [3.05042514 6.70185272]'\n",
    "Qz2 = \n",
    "[[0.84693794 0.4333316 ]\n",
    " [0.4333316  0.81306206]]\n",
    "```\n",
    "\n",
    "### Combined information\n",
    "```\n",
    "---- Exercise 4.1.5 parte 2 ----\n",
    "z_w = [2.58757252 6.15534036]'\n",
    "Wz_w = \n",
    "[[0.37966125 0.07773125]\n",
    " [0.07773125 0.36999739]]\n",
    "```"
   ]
  },
  {
   "cell_type": "markdown",
   "metadata": {},
   "source": [
    "### <font color=\"blue\"><b><i>Thinking about it (1)</i></b></font>\n",
    "\n",
    "Having completed the code above, you will be able to **answer the following questions**:\n",
    "\n",
    "- When working with landmarks, why do we ignore the information regarding orientation?\n",
    "\n",
    "    <p style=\"margin: 4px 0px 6px 5px; color:blue\"><i>Because the landmarks do not have orientation, thet just have position in the space.</i></p>\n",
    "\n",
    "- In the two first assignments we computed the covariance matrix of the observation $z_1$ captured by robot $R1$ in two different cases: when the $R1$ pose was perfectly known, and having some uncertainty about it. Which covariance matrix was bigger? Is it bigger than that of the robot? Why? \n",
    "\n",
    "    <p style=\"margin: 4px 0px 6px 5px; color:blue\"><i>The second one is greater \n",
    "    due to not having knowledge of the position of the robot and therefore the uncertainty increases.</i></p>\n",
    "    \n",
    "- When predicting an observation of $m$ from the second robot $R2$, why did we need to use the Jacobian ${\\partial{p}}/{\\partial{c}}$?\n",
    "\n",
    "    <p style=\"margin: 4px 0px 6px 5px; color:blue\"><i>To express the cartesian coordinates in polar and because the pose transformation is not a linear transformation.</i></p>\n",
    "\n",
    "- In the last assignment we got two different pdf’s associated to the same landmark. Is that a contradiction? How did you manage two combine these two *pieces of information*?      \n",
    "\n",
    "    <p style=\"margin: 4px 0px 6px 5px; color:blue\"><i>It’s not a contradiction because two observations can yield different values depending on the accuracy of the robot’s position and sensor. If either is uncertain, the values may vary. Since both are governed by Gaussian distributions, they can be combined by multiplying them.</i></p>"
   ]
  },
  {
   "cell_type": "markdown",
   "metadata": {},
   "source": [
    "## <span style=\"color:green\">OPTIONAL</span>\n",
    "\n",
    "<span style=\"color:green\">As commented, a number of sensors can be mounted on a mobile robot. In the robotic sensing lecture we discused some of the most popular ones. As an optional exercise, you can look for interesting information about any of them (or any one not listed below) and further describe it here to complete your knowledge.</span>"
   ]
  },
  {
   "cell_type": "markdown",
   "metadata": {},
   "source": [
    "## Robotic Sensors Overview\n",
    "\n",
    "### 1. Beacons\n",
    "   - **GPS (Global Positioning System)**: GPS is a satellite-based navigation system that provides location and time information, crucial for robots that require localization outdoors. However, it has limitations in indoor environments or locations with poor satellite coverage (e.g., dense urban areas). Typically, GPS data is used in conjunction with other sensors to enhance localization accuracy.\n",
    "\n",
    "### 2. Range Sensors\n",
    "   - **Sonar**: Sonar (Sound Navigation and Ranging) uses sound waves to detect the distance to objects. It’s effective for obstacle avoidance and distance measurement but has limitations in spatial resolution and can struggle with reflective surfaces.\n",
    "   - **Infrared (IR)**: Infrared sensors emit infrared light and measure the reflection to calculate distances. They are commonly used for proximity detection and are inexpensive, though they can be sensitive to environmental light and have limited range.\n",
    "   - **Laser Scanner (LIDAR)**: LIDAR (Light Detection and Ranging) sensors use laser light to create highly accurate distance measurements by measuring the time it takes for a laser to bounce back after hitting an object. LIDARs provide high-resolution spatial data, useful in mapping and navigation, though they can be costly.\n",
    "\n",
    "### 3. Cameras\n",
    "   - **Standard Cameras**: These cameras capture 2D images and can be used for object recognition, tracking, and environmental monitoring. Paired with image processing algorithms, they can support tasks like visual SLAM (Simultaneous Localization and Mapping).\n",
    "\n",
    "### 4. RGB-D Cameras\n",
    "   - **RGB-D (Red, Green, Blue, Depth) Cameras**: These cameras capture color (RGB) data as well as depth information, which allows for 3D mapping and object detection. Common examples include the Microsoft Kinect. RGB-D cameras are useful in applications where depth perception is critical, such as gesture recognition and indoor navigation.\n"
   ]
  },
  {
   "cell_type": "markdown",
   "metadata": {},
   "source": [
    "<span style=\"color:green\">***END OF OPTIONAL PART***</span>"
   ]
  },
  {
   "cell_type": "markdown",
   "metadata": {},
   "source": [
    "## <span style=\"color:green\">OPTIONAL</span>\n",
    "\n",
    "<span style=\"color:green\">An alternative to *landmark observation models* are *scan observation* ones, which work with scan-based sensors. Below, the three most popular ones are listed. Surf the internet for some code illustrating any of them, and include it in the notebook with a brief description of how it works and its purpose. You could also implement an example using these models.</span>"
   ]
  },
  {
   "cell_type": "markdown",
   "metadata": {},
   "source": [
    "## Scan observation models\n",
    "\n",
    "Scan observation models are used when the sensor mounted on the robot provides a scan measuring distance and angle to obstacles in the workspace, *e.g.* a laser range finder. In this case, each element in the map is a cell described by its position (and probably a color representing if its free of obstacles or occupied), and data association is not explicitly addressed. \n",
    "\n",
    "### Beam model\n",
    "The beam model estimates the probability of a scan by considering the likelihood of individual beams in a scan based on expected measurements. It is based on the ray-casting principle, where each beam (or ray) from the sensor interacts with the environment, determining the distance to an obstacle or its absence. By accounting for sensor noise, unexpected obstacles, and measurement failures, this model offers a realistic and robust way to interpret scan data.\n",
    "\n",
    "#### Code example"
   ]
  },
  {
   "cell_type": "code",
   "execution_count": 34,
   "metadata": {},
   "outputs": [],
   "source": [
    "def beam_model(scan, expected_scan, std_dev=0.1):\n",
    "    likelihood = 1.0\n",
    "    for obs, expected_obs in zip(scan, expected_scan):\n",
    "        prob = np.exp(-0.5 * ((obs - expected_obs) / std_dev) ** 2) / (std_dev * np.sqrt(2 * np.pi))\n",
    "        likelihood *= prob\n",
    "    return likelihood"
   ]
  },
  {
   "cell_type": "code",
   "execution_count": 35,
   "metadata": {},
   "outputs": [
    {
     "name": "stdout",
     "output_type": "stream",
     "text": [
      "Beam Model Likelihood: 14.16734515441325\n"
     ]
    }
   ],
   "source": [
    "scan = [2.5, 3.0, 3.5]\n",
    "expected_scan = [2.4, 3.1, 3.6]\n",
    "\n",
    "print(\"Beam Model Likelihood:\", beam_model(scan, expected_scan))"
   ]
  },
  {
   "cell_type": "markdown",
   "metadata": {},
   "source": [
    "The beam model serves as a foundation for probabilistic robotic localization and mapping by approximating sensor behavior in obstacle detection. This helps robots make accurate assumptions about their position relative to nearby obstacles."
   ]
  },
  {
   "cell_type": "markdown",
   "metadata": {},
   "source": [
    "### Likelihood field\n",
    "The likelihood field model simplifies the beam model by considering only the distance between the endpoints of each beam in a scan and the closest obstacle in the map. Instead of simulating the entire path of each beam, it only checks the end positions, providing a faster and less complex alternative that still offers reasonable accuracy.\n",
    "\n",
    "#### Code example"
   ]
  },
  {
   "cell_type": "code",
   "execution_count": 36,
   "metadata": {},
   "outputs": [],
   "source": [
    "def likelihood_field(scan, map_obstacles, std_dev=0.2):\n",
    "    likelihood = 1.0\n",
    "    for obs in scan:\n",
    "        closest_dist = min([abs(obs - obs_pos) for obs_pos in map_obstacles])\n",
    "        prob = np.exp(-0.5 * (closest_dist / std_dev) ** 2) / (std_dev * np.sqrt(2 * np.pi))\n",
    "        likelihood *= prob\n",
    "    return likelihood"
   ]
  },
  {
   "cell_type": "code",
   "execution_count": 37,
   "metadata": {},
   "outputs": [
    {
     "name": "stdout",
     "output_type": "stream",
     "text": [
      "Likelihood Field Likelihood: 5.454811906132626\n"
     ]
    }
   ],
   "source": [
    "scan = [2.5, 3.0, 3.5]\n",
    "map_obstacles = [2.4, 3.1, 3.6]\n",
    "\n",
    "print(\"Likelihood Field Likelihood:\", likelihood_field(scan, map_obstacles))"
   ]
  },
  {
   "cell_type": "markdown",
   "metadata": {},
   "source": [
    "This model is useful for probabilistic localization in large maps, as it reduces computation costs while maintaining the accuracy needed for real-time operation."
   ]
  },
  {
   "cell_type": "markdown",
   "metadata": {},
   "source": [
    "### Scan matching\n",
    "The scan matching model aligns a robot’s current scan with a pre-existing map, optimizing the position and orientation of the scan to match the map. Techniques such as Iterative Closest Point (ICP) are often employed to minimize the difference between the two scans iteratively, refining the robot’s pose.\n",
    "\n",
    "#### Pseudocode example"
   ]
  },
  {
   "cell_type": "code",
   "execution_count": 38,
   "metadata": {},
   "outputs": [],
   "source": [
    "def scan_matching(scan, map_scan):\n",
    "    position, orientation = (0, 0), 0\n",
    "    \n",
    "    for i in range(max_iterations):\n",
    "        closest_points = find_closest_points(scan, map_scan)\n",
    "        error = compute_alignment_error(scan, closest_points)\n",
    "        \n",
    "        if error < threshold:\n",
    "            break\n",
    "        \n",
    "        position, orientation = adjust_pose(position, orientation, error)\n",
    "    \n",
    "    return position, orientation"
   ]
  },
  {
   "cell_type": "markdown",
   "metadata": {},
   "source": [
    "Scan matching is pivotal in SLAM (Simultaneous Localization and Mapping), helping robots update their location in real time by aligning sensor data with the map. This is particularly valuable in dynamic or previously unknown environments."
   ]
  },
  {
   "cell_type": "markdown",
   "metadata": {},
   "source": [
    "<span style=\"color:green\">***END OF OPTIONAL PART***</span>"
   ]
  }
 ],
 "metadata": {
  "kernelspec": {
   "display_name": "venv",
   "language": "python",
   "name": "python3"
  },
  "language_info": {
   "codemirror_mode": {
    "name": "ipython",
    "version": 3
   },
   "file_extension": ".py",
   "mimetype": "text/x-python",
   "name": "python",
   "nbconvert_exporter": "python",
   "pygments_lexer": "ipython3",
   "version": "3.12.3"
  }
 },
 "nbformat": 4,
 "nbformat_minor": 4
}

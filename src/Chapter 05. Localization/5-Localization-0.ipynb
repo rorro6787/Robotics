{
 "cells": [
  {
   "cell_type": "markdown",
   "metadata": {},
   "source": [
    "# 5. Robot localization\n",
    "\n",
    "In the upcoming chapters we will cover three fundamental aspects of mobile robots: robot localization, map building, and simultaneous localization and mapping (SLAM). \n",
    "\n",
    "Citing Cox [1]:\n",
    "\n",
    "> *Using sensory information to locate the robot in its environment is the most fundamental problem to providing a mobile robot with autonomous capabilities*\n",
    "\n",
    "Concretely, the goal of **robot localization** is, given a map of the environment and a sequence of sensor measurements, to retrieve the robot's pose in such environment. \n",
    "\n",
    "Localization problems can be grouped into different types (see Fig.1 below):\n",
    "- **Position tracking**: the robot knows approximately where it is (for example, using odometry readings, which have to come at a certain frequency).\n",
    "- **Global localization**: the robot has no clue where it is (*e.g.* GPS). It is needed when the robot is turned on.\n",
    "- **Kidnapped robot problem**: the robot thinks that it knows where it is, but is wrong!\n",
    "\n",
    "$\\\\[5pt]$\n",
    "\n",
    "<figure style=\"text-align:center\">\n",
    "  <img src=\"images/localization_problems_low.png\" alt=\"\">\n",
    "  <figcaption>Fig. 1. Different types of localization problems.</figcaption>\n",
    "</figure>"
   ]
  },
  {
   "cell_type": "markdown",
   "metadata": {},
   "source": [
    "## <span style=\"color:green\">OPTIONAL</span>\n",
    "\n",
    "<span style=\"color:green\">Surf the internet looking for more general information about robot localization. You can include additional definitions, examples, images, videos,... anything you find interesting!</span>"
   ]
  },
  {
   "cell_type": "markdown",
   "metadata": {},
   "source": [
    "### 1. Categories of Localization Challenges\n",
    "\n",
    "- **Position Tracking**:  \n",
    "  Position tracking involves a robot starting with an approximate idea of its location and updating its position as it moves. This method typically utilizes sensors such as wheel encoders, accelerometers, and gyroscopes to monitor movements based on previous locations. While effective for many applications, position tracking can experience *drift* over time due to cumulative sensor inaccuracies.\n",
    "\n",
    "- **Global Localization**:  \n",
    "  In contrast to position tracking, global localization is necessary when a robot has no information about its initial position. This scenario often occurs during startup in unfamiliar environments. To address this challenge, robots employ techniques like particle filtering or Monte Carlo localization, which involve sampling various potential positions and refining estimates as new sensor data becomes available.\n",
    "\n",
    "- **Kidnapped Robot Problem**:  \n",
    "  This issue arises when a robot incorrectly assumes it knows its location, only to be physically moved or repositioned by an external force. For instance, a robot might believe it is in one corner of a room, while it has been relocated to a different spot entirely. Overcoming this challenge requires sophisticated algorithms capable of re-evaluating the robot's position based on environmental context and sensor input.\n",
    "\n",
    "### 2. Methods for Localization\n",
    "\n",
    "- **Dead Reckoning**:  \n",
    "  This technique involves estimating the current position by calculating movements from a previously known location. Although straightforward, dead reckoning can lead to significant errors over time due to compounding inaccuracies.\n",
    "\n",
    "- **SLAM (Simultaneous Localization and Mapping)**:  \n",
    "  When operating in unknown environments, SLAM algorithms enable a robot to build a map while simultaneously tracking its own location within that map. This method is particularly advantageous for exploratory tasks.\n",
    "\n",
    "- **Vision-Based Localization**:  \n",
    "  By utilizing cameras and computer vision techniques, robots can identify landmarks or distinct features in their surroundings, allowing them to determine their position relative to these reference points.\n",
    "\n",
    "### 3. Applications of Robot Localization\n",
    "\n",
    "- **Autonomous Vehicles**:  \n",
    "  Self-driving cars combine GPS, LiDAR, and camera systems to achieve precise localization, ensuring safe navigation on public roads.\n",
    "\n",
    "- **Robotic Vacuum Cleaners**:  \n",
    "  These smart devices create a map of domestic spaces and localize themselves to effectively clean without leaving areas unattended.\n",
    "\n",
    "- **Mobile Delivery Robots**:  \n",
    "  Employed in warehouses and for last-mile delivery services, these robots rely on accurate localization to navigate through dynamic environments and avoid obstacles.\n",
    "\n",
    "### 4. Challenges in Localization\n",
    "\n",
    "- **Sensor Noise**:  \n",
    "  Environmental factors and inherent sensor inaccuracies can lead to noise, resulting in unreliable readings.\n",
    "\n",
    "- **Dynamic Environments**:  \n",
    "  The presence of moving obstacles complicates localization efforts, necessitating algorithms that can adapt in real time to changing conditions.\n",
    "\n",
    "- **Computational Complexity**:  \n",
    "  Many advanced localization methods require substantial computational resources, making the development of efficient algorithms critical for real-time performance."
   ]
  },
  {
   "cell_type": "markdown",
   "metadata": {},
   "source": [
    "<span style=\"color:green\">***END OF OPTIONAL PART***</span>"
   ]
  },
  {
   "cell_type": "markdown",
   "metadata": {},
   "source": [
    "## References \n",
    "\n",
    "[1] Cox, Ingemar J. \"Blanche-an experiment in guidance and navigation of an autonomous robot vehicle.\" IEEE Transactions on robotics and automation 7, no. 2 (1991): 193-204."
   ]
  }
 ],
 "metadata": {
  "kernelspec": {
   "display_name": "Python 3 (ipykernel)",
   "language": "python",
   "name": "python3"
  },
  "language_info": {
   "codemirror_mode": {
    "name": "ipython",
    "version": 3
   },
   "file_extension": ".py",
   "mimetype": "text/x-python",
   "name": "python",
   "nbconvert_exporter": "python",
   "pygments_lexer": "ipython3",
   "version": "3.10.7"
  }
 },
 "nbformat": 4,
 "nbformat_minor": 4
}

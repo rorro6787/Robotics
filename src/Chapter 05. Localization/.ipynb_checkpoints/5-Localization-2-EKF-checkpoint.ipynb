{
 "cells": [
  {
   "cell_type": "markdown",
   "metadata": {},
   "source": [
    "# 5.2 EKF Localization\n",
    "\n",
    "The Kalman filter is one of the best studied techniques for filtering and prediction of the state of linear systems. Among its virtues, it provides a way to overcome the occasional un-observability problem of the Least Squares approach. Nevertheless, it makes a strong assumption that the two involved process equations (state transition and observation) are linear. \n",
    "\n",
    "Unfortunately, you should already know that our system of measurements (i.e. the observation function) and motion (i.e. pose composition) are non-linear.\n",
    "Therefore, this notebook focuses from the get-go on the **Extended Kalman Filter (EKF)**, which is adapted to work with non-linear systems. When applied to robot localization, the EKF estimates the robot pose based on sensor measurements and a motion model, taking into account the noise in both the robot's motion and its sensors. Concretely, the robot pose $x_t$ (its state) is modelled as a normal distribution, so $x_t \\sim N(\\mu_t, \\Sigma_t)$,\n",
    "\n",
    "The EKF algorithm consists of 2 phases: **prediction** and **correction**.\n",
    "\n",
    "$$\n",
    "  \\begin{aligned}\n",
    "      \\verb!def !& \\verb!ExtendedKalmanFilter!(\\mu_{t-1},\\Sigma_{t-1}, u_t, z_t): \\\\\n",
    "      & \\textbf{Prediction.} \\\\\n",
    "      & \\bar\\mu_t = g(\\mu_{t-1}, u_t) = \\mu_{t-1} \\oplus u_t &\\text{(1. Pose prediction)}\\\\\n",
    "      & \\bar\\Sigma_t = G_t \\Sigma_{t-1} G_t^T + R_t &\\text{(2. Uncertainty of prediction)}\\\\\n",
    "      & \\textbf{Correction.} \\\\\n",
    "      & K_t = \\bar\\Sigma_t H^T_t (H_t \\bar\\Sigma_t H^T_t + Q_t)^{-1} &\\text{(3. Kalman gain)}\\\\\n",
    "      & \\mu_t = \\bar\\mu_t + K_t (z_t - h(\\bar\\mu_t)) &\\text{(4. Pose estimation)}\\\\\n",
    "      & \\Sigma_t = (I - K_t H_t) \\bar\\Sigma_t &\\text{(5. Uncertainty of estimation)}\\\\\n",
    "      & \\verb!return ! \\mu_t, \\Sigma_t\n",
    "  \\end{aligned}\n",
    "$$\n",
    "\n",
    "Notice that $R_t$ is the covariance of the motion $u_t$ in the coordinate system of the predicted pose $(\\bar x_t)$, then (Note: $J_2$ is our popular Jacobian for the motion command, you could also use $J_1$):\n",
    "\n",
    "$$R_t = J_2 \\Sigma_{u_t} J_2^T \\quad\\text{with}\\quad J_2 = \\frac{\\partial g(\\mu_{t-1}, u_t)}{\\partial u_t}$$\n",
    "\n",
    "Where:\n",
    "  - $(u_t, \\Sigma_{u_t})$ is the motion command received, and its respective uncertainty.\n",
    "  - $(z_t, Q_t)$ are the observations taken, and their covariance.\n",
    "  - $G_t$ and $H_t$ are the Jacobians of the motion model and the observation model respectively:\n",
    "\n",
    "$$G_t = \\frac{\\partial g(\\mu_{t-1}, u_t)}{\\partial x_{t-1}}, \\qquad H_t = \\frac{\\partial h(\\bar\\mu_t)}{\\partial x_t}$$"
   ]
  },
  {
   "cell_type": "markdown",
   "metadata": {},
   "source": [
    "At this point the steps in the **prediction** phase are straightforward for us. But, what's the intuition behind the steps in the **correction** one?\n",
    "\n",
    "3. **Kalman gain**  $K_t=\\overline{\\Sigma}_t H_t^T ( H_t \\overline{\\Sigma}_t H_t^T + Q_t)^{-1}$\n",
    "\n",
    "    This equation determines how much the prediction should be adjusted based on the new measurement.The Kalman Gain $K_t$ balances the confidence in the prediction with the confidence in the measurement. A high Kalman Gain means the measurement is trusted more than the prediction, while a low Kalman Gain means the prediction is trusted more. If the measurement noise $Q_t$ is high, the gain will be low, meaning the model relies more on its prediction than on the noisy measurement.\n",
    "    \n",
    "4. **Pose estimation** $\\mu_t = \\overline{\\mu}_t + K_t(z_t-h(\\overline{\\mu}_t$))\n",
    "\n",
    "    This step updates the current state estiamte (pose) $\\mu_t$ using the Kalman gain from the previous step and the difference between the observed measurement $z_t$ and the predicted measurement $h(\\overline{\\mu}_t)$. The term $(z_t-h(\\overline{\\mu}_t))$ is called the **innovation** or **measurement residual**. It represents the discrepancy between the predicted measurement (based on the current state estimate) and the actual measurement. The innovation provides information on how far off the prediction was. If the innovation is small, the predicted state is close to the actual state; if it’s large, there’s a significant discrepancy that needs correction. This update moves the estimated pose closer to the observed measurement while accounting for the predicted state and measurement uncertainties.\n",
    "    \n",
    "5. **Uncertainty of the estimation** $\\Sigma_t = (I-K_t H_t) \\overline{\\Sigma}_t$\n",
    "\n",
    "    This equation updates the covariance matrix $\\Sigma_t$, representing the uncertainty in the state estimate after incorporating the measurement. It reduces the uncertainty in the state estimate based on the Kalman Gain. If the Kalman Gain is high (i.e., the measurement is reliable), the uncertainty is reduced significantly. If the Kalman Gain is low (i.e., the measurement is less reliable), the reduction in uncertainty is smaller. This adaptability helps maintain a realistic assessment of the confidence in the state estimate."
   ]
  },
  {
   "cell_type": "markdown",
   "metadata": {},
   "source": [
    "In this notebook we are going to play with the EKF localization algorithm using a map of landmarks and a sensor providing range and bearing measurements from the robot pose to such landmarks. Concretely, **we are going to**:\n",
    "1. Implement a class modeling a **range and bearing sensor** able to take measurements to landmarks.\n",
    "2. Complete a class that implements the robot behavior after completing **motion commands**.\n",
    "3. Implement the **Jacobian of the observation model**.\n",
    "4. With the previous building blocks, implement our own **EKF filter** and see it in action.\n",
    "5. Finally, we are going to consider a more **realistic sensor** with a given Field of View and a maximum operational range. "
   ]
  },
  {
   "cell_type": "code",
   "execution_count": 1,
   "metadata": {},
   "outputs": [],
   "source": [
    "# IMPORTS\n",
    "import numpy as np\n",
    "from numpy import random\n",
    "from numpy import linalg\n",
    "import matplotlib\n",
    "matplotlib.use('TkAgg')\n",
    "from matplotlib import pyplot as plt\n",
    "from IPython.display import display, clear_output\n",
    "import time\n",
    "\n",
    "import sys\n",
    "sys.path.append(\"..\")\n",
    "from utils.AngleWrap import AngleWrapList\n",
    "from utils.PlotEllipse import PlotEllipse\n",
    "from utils.Drawings import DrawRobot, drawFOV, drawObservations\n",
    "from utils.Jacobians import J1, J2\n",
    "from utils.tcomp import tcomp"
   ]
  },
  {
   "cell_type": "markdown",
   "metadata": {},
   "source": [
    "### **<span style=\"color:green\"><b><i>ASSIGNMENT 1: Getting an observation to a random landmark</i></b></span>** \n",
    "\n",
    "\n",
    "We are going to implement the `Sensor()` class modelling a range and bearing sensor. Recall that the observation model of this type of sensos is:\n",
    "\n",
    "$$\n",
    "z_i= \\begin{bmatrix} d_i \\\\ \\theta_i \\end{bmatrix}=h(m_i,x)=\n",
    "\\begin{bmatrix} \\sqrt{(x_i-x)^2+(y_i-y)^2} \\\\ atan\\left(\\frac{y_i-y}{x_i-x}\\right) - \\theta \\end{bmatrix}+w_i\n",
    "$$\n",
    "\n",
    "where $m_i=[x_i,y_i]$ are the landmark coordinates in the world frame, $x=[x,y,\\theta]$ is the robot pose, and the noise $w_i$ follows a Gaussian distribution with zero mean and covariance matrix:\n",
    "\n",
    "$$\\Sigma_S = \n",
    "    \\begin{bmatrix}\n",
    "        \\sigma^2_r & 0 \\\\\n",
    "        0 & \\sigma^2_{\\theta}\n",
    "    \\end{bmatrix}\n",
    "$$\n",
    "\n",
    "For that, complete the following methods:\n",
    "- `observe()`: which, given a real robot pose (`from_pose`), returns the measurments to the landmarks in the map (`world`). If `noisy=true`, then a random gaussian noise with zero mean and covariance $\\Sigma_S$ (`cov`) is added to each measurement. *Hint you can use [`random.randn()`](https://docs.scipy.org/doc/numpy-1.15.1/reference/generated/numpy.random.randn.html) for that.*\n",
    "\n",
    "- `random_observation()`: that, given again the robot pose (`from_pose`), randomly selects a landmark from the map (`world`) and returns an observation from the range-bearing sensor using the `observe()` method previously implemented. The `noisy` argument is just passed to `observe()`.  *Hint: to randomly select a landmark, use [`randint()`](https://numpy.org/doc/stable/reference/random/generated/numpy.random.randint.html).*"
   ]
  },
  {
   "cell_type": "code",
   "execution_count": 4,
   "metadata": {},
   "outputs": [],
   "source": [
    "class Sensor():\n",
    "    def __init__(self, cov):\n",
    "        \"\"\"\n",
    "        Args:\n",
    "            cov: covariance of the sensor.\n",
    "        \"\"\"\n",
    "        self.cov = cov\n",
    "    \n",
    "    def observe(self, from_pose, world, noisy=True, flatten=True):\n",
    "        \"\"\"Calculate observation relative to from_pose\n",
    "\n",
    "        Args:\n",
    "            from_pose: Position(real) of the robot which takes the observation\n",
    "            world: List of world coordinates of some landmarks\n",
    "            noisy: Flag, if true then add noise (Exercise 2)\n",
    "\n",
    "        Returns:\n",
    "                Numpy array of polar coordinates of landmarks from the perspective of our robot\n",
    "                They are organised in a vertical vector ls = [d_0 , a_0, d_1, ..., a_n]'\n",
    "                Dims (2*n_landmarks, 1) \n",
    "        \"\"\"\n",
    "        delta = world - from_pose[0:2]\n",
    "\n",
    "        z = np.empty_like(delta)\n",
    "        z[0, :] = np.sqrt(delta[0]**2 + delta[1]**2)\n",
    "        z[1, :] = np.arctan2(delta[1], delta[0]) - from_pose[2]\n",
    "        z[1, :] = AngleWrapList(z[1, :])\n",
    "\n",
    "        if noisy: \n",
    "            z +=  np.sqrt(self.cov) @ random.randn(z.shape[0], z.shape[1])\n",
    "\n",
    "        if flatten:\n",
    "            return np.vstack(z.flatten('F'))\n",
    "        else:\n",
    "            return z\n",
    "        \n",
    "    def random_observation(self, from_pose, world, noisy=True):\n",
    "        \"\"\" Get an observation from a random landmark \n",
    "            \n",
    "            Args: Same as observe().\n",
    "                \n",
    "            Returns:\n",
    "                z: Numpy array of obs. in polar coordinates\n",
    "                landmark: Index of the randomly selected landmark in the world map\n",
    "                    Although it is only one index, you should return it as\n",
    "                    a numpy array.\n",
    "        \"\"\"\n",
    "        n_landmarks = world.shape[1]\n",
    "        rand_idx = random.randint(n_landmarks)\n",
    "        world = world[:, [rand_idx]]\n",
    "        \n",
    "        z = self.observe(from_pose, world, noisy)\n",
    "\n",
    "        return z, np.array([rand_idx])"
   ]
  },
  {
   "cell_type": "markdown",
   "metadata": {},
   "source": [
    "You can use the code cell below **to test your implementation**."
   ]
  },
  {
   "cell_type": "code",
   "execution_count": 5,
   "metadata": {},
   "outputs": [
    {
     "name": "stdout",
     "output_type": "stream",
     "text": [
      "Measurement:\n",
      "(array([[53.76652662],\n",
      "       [-0.79056712]]), array([0]))\n",
      "Noisy measurement:\n",
      "(array([[64.73997127],\n",
      "       [-0.81342958]]), array([2]))\n",
      "Measurements to every landmark in the map:\n",
      "[[ 5.51319938e+01]\n",
      " [-1.10770618e+00]\n",
      " [ 6.04762304e+01]\n",
      " [-1.46219661e+00]\n",
      " [ 6.23690518e+01]\n",
      " [-5.72010701e-02]]\n"
     ]
    }
   ],
   "source": [
    "# TRY IT!\n",
    "seed = 0\n",
    "np.random.seed(seed)\n",
    "\n",
    "# Sensor characterization\n",
    "SigmaR = 1 # Standard deviation of the range\n",
    "SigmaB = 0.7 # Standard deviation of the bearing\n",
    "Q = np.diag([SigmaR**2, SigmaB**2]) # Cov matrix\n",
    "\n",
    "sensor = Sensor(Q)\n",
    "\n",
    "# Map\n",
    "Size = 50.0\n",
    "NumLandmarks = 3\n",
    "Map = Size*2*random.rand(2,NumLandmarks)-Size\n",
    "\n",
    "# Robot true pose\n",
    "true_pose = np.vstack([-Size+Size/3, -Size+Size/3, np.pi/2])\n",
    "\n",
    "# Take a random measurement\n",
    "noisy = False\n",
    "z = sensor.random_observation(true_pose, Map, noisy)\n",
    "\n",
    "noisy = True\n",
    "noisy_z = sensor.random_observation(true_pose, Map, noisy)\n",
    "\n",
    "# Take observations to every landmark in the map\n",
    "zs = sensor.observe(true_pose, Map, noisy)\n",
    "\n",
    "print('Measurement:\\n' + str(z))\n",
    "print('Noisy measurement:\\n' + str(noisy_z))\n",
    "print('Measurements to every landmark in the map:\\n' + str(zs))"
   ]
  },
  {
   "cell_type": "markdown",
   "metadata": {},
   "source": [
    "<span style=\"color:blue\">Expected output</span>\n",
    "\n",
    "```\n",
    "Measurement:\n",
    "(array([[53.76652662],\n",
    "       [-0.79056712]]), array([0]))\n",
    "Noisy measurement:\n",
    "(array([[64.73997127],\n",
    "       [-0.81342958]]), array([2]))\n",
    "Measurements to every landmark in the map:\n",
    "[[ 5.51319938e+01]\n",
    " [-1.10770618e+00]\n",
    " [ 6.04762304e+01]\n",
    " [-1.46219661e+00]\n",
    " [ 6.23690518e+01]\n",
    " [-5.72010701e-02]]\n",
    " ```"
   ]
  },
  {
   "cell_type": "markdown",
   "metadata": {},
   "source": [
    "### **<span style=\"color:green\"><b><i>ASSIGNMENT 2: Simulating the robot motion</i></b></span>** \n",
    "In the robot motion chapter we commanded a mobile robot to follow a squared trajectory. We provide here the `Robot` class that implements:\n",
    "- how the robot pose evolves after executing a motion command (`step()` method), and\n",
    "- the functionality needed to graphically show its ideal pose (`pose`), true pose (`true_pose`) and estimated pose (`xEst`) in the `draw()` function.\n",
    "\n",
    "Your mission is to complete the `step()`method by adding random noise to each motion command (`noisy_u`) based on the following covariance matrix, and update the true robot pose (`true_pose`):\n",
    "\n",
    "$$\\Sigma_{u_t} = \n",
    "    \\begin{bmatrix}\n",
    "        \\sigma^2_{\\Delta x} & 0 & 0\\\\\n",
    "        0 & \\sigma^2_{\\Delta y} & 0\\\\\n",
    "        0 & 0 & \\sigma^2_{\\Delta \\theta}\n",
    "    \\end{bmatrix}\n",
    "$$ \n",
    "\n",
    "*Hint: Recall again the [`random.randn()`](https://docs.scipy.org/doc/numpy-1.15.1/reference/generated/numpy.random.randn.html) function.*"
   ]
  },
  {
   "cell_type": "code",
   "execution_count": 6,
   "metadata": {},
   "outputs": [],
   "source": [
    "class Robot():\n",
    "    def __init__(self, true_pose, cov_move):\n",
    "        # Robot description (Starts as perfectly known)\n",
    "        self.pose = true_pose\n",
    "        self.true_pose = true_pose\n",
    "        self.cov_move = cov_move\n",
    "\n",
    "        # Estimated pose and covariance\n",
    "        self.xEst = true_pose\n",
    "        self.PEst = np.zeros((3, 3))\n",
    "        \n",
    "    def step(self, u):\n",
    "        self.pose = tcomp(self.pose,u) # New pose without noise\n",
    "        noise = np.sqrt(self.cov_move)@random.randn(3,1) # Generate noise\n",
    "        noisy_u = u + noise #  Apply noise to the control action\n",
    "        self.true_pose = tcomp(self.true_pose, noisy_u) #  New noisy pose (real robot pose)\n",
    "        \n",
    "    def draw(self, fig, ax):\n",
    "        DrawRobot(fig, ax, self.pose, color='r')\n",
    "        DrawRobot(fig, ax, self.true_pose, color='b')\n",
    "        DrawRobot(fig, ax, self.xEst, color='g')\n",
    "        PlotEllipse(fig, ax, self.xEst, self.PEst, 4, color='g')"
   ]
  },
  {
   "cell_type": "markdown",
   "metadata": {},
   "source": [
    "It is time **to test** your `step()` function!"
   ]
  },
  {
   "cell_type": "code",
   "execution_count": 7,
   "metadata": {},
   "outputs": [
    {
     "name": "stdout",
     "output_type": "stream",
     "text": [
      "robot.true_pose.T:[[-0.32012577  5.41124188  1.66867013]]'\n"
     ]
    }
   ],
   "source": [
    "# Robot base characterization\n",
    "SigmaX = 0.8 # Standard deviation in the x axis\n",
    "SigmaY = 0.8 # Standard deviation in the y axis\n",
    "SigmaTheta = 0.1 # Bearing standar deviation\n",
    "R = np.diag([SigmaX**2, SigmaY**2, SigmaTheta**2]) # Cov matrix\n",
    "\n",
    "# Create the Robot object\n",
    "true_pose = np.vstack([2,3,np.pi/2])\n",
    "robot = Robot(true_pose, R)\n",
    "\n",
    "# Perform a motion command\n",
    "u = np.vstack([1,2,0])\n",
    "np.random.seed(0)\n",
    "robot.step(u)\n",
    "\n",
    "print('robot.true_pose.T:' + str(robot.true_pose.T) + '\\'')"
   ]
  },
  {
   "cell_type": "markdown",
   "metadata": {},
   "source": [
    "<span style=\"color:blue\">Expected output</span>\n",
    "\n",
    "```\n",
    "robot.true_pose.T:[[-0.32012577  5.41124188  1.66867013]]'\n",
    "```"
   ]
  },
  {
   "cell_type": "markdown",
   "metadata": {},
   "source": [
    "### **<span style=\"color:green\"><b><i>ASSIGNMENT 3:  Jacobians of the observation model</i></b></span>** \n",
    "\n",
    "Given that the position of the landmarks in the map is known, we can use this information in a Kalman filter, in our case an EKF. For that we need to implement the **Jacobians of the observation model**, as required by the correction step of the filter. \n",
    "\n",
    "Implement the function `getObsJac()`that given:\n",
    "- the predicted pose in the first step of the Kalman filter, \n",
    "- a number of observed landmarks, and \n",
    "- the map, \n",
    "\n",
    "returns such Jacobian. Recall that, for each observation to a landmark:\n",
    "\n",
    "$$\n",
    "\\nabla H = \\frac{\\partial h}{\\partial \\{x,y,\\theta \\}} =\n",
    "\\begin{bmatrix}\n",
    "    -\\frac{x_i - x}{d} & - \\frac{y_i - y}{d} & 0 \\\\\n",
    "    \\frac{y_i - y}{d^2} & -\\frac{x_i - x}{d^2} & -1\n",
    "\\end{bmatrix}_{2 \\times 3}\n",
    "$$\n",
    "\n",
    "Recall that $[x_i,y_i]$ is the position of the $i^{th}$ landmark in the map, $[x,y]$ is the robot predicted pose, and $d$ the distance from such predicted pose to the landmark. This way, the resultant Jacobian dimensions are $(\\#observed\\_landmarks \\times 2, 3)$, that is, the Jacobians are stacked vertically to form the matrix $H$."
   ]
  },
  {
   "cell_type": "code",
   "execution_count": 34,
   "metadata": {},
   "outputs": [],
   "source": [
    "def getObsJac(xPred, lm, Map): \n",
    "    \"\"\" Obtain the Jacobian for all observations.\n",
    "\n",
    "        Args:\n",
    "            xPred: Position of our robot at which Jac is evaluated.\n",
    "            lm: Numpy array of observations to a number of landmarks (indexes in map)\n",
    "            Map: Map containing the actual positions of the observations.\n",
    "\n",
    "        Returns:\n",
    "            jH: Jacobian matrix (2*n_landmaks, 3) \n",
    "    \"\"\"\n",
    "    n_land = len(lm)\n",
    "    jH = np.empty((2*n_land,3))\n",
    "    \n",
    "    for i in range(n_land):\n",
    "        # Auxiliary variables\n",
    "        dx = Map[0, lm[i]] - xPred[0]\n",
    "        dy = Map[1, lm[i]] - xPred[1]\n",
    "        d = np.sqrt(dx**2 + dy**2)\n",
    "        d2 = d**2\n",
    "        \n",
    "        ii = 2*i\n",
    "\n",
    "        # Build the Jacobian\n",
    "        jH[ii:ii+2,:] = [\n",
    "            [-dx/d, -dy/d, 0],\n",
    "            [dy/d2, -dx/d2, -1]\n",
    "        ]\n",
    "\n",
    "    return jH"
   ]
  },
  {
   "cell_type": "markdown",
   "metadata": {},
   "source": [
    "Time **to check** your function!"
   ]
  },
  {
   "cell_type": "code",
   "execution_count": 35,
   "metadata": {},
   "outputs": [
    {
     "name": "stdout",
     "output_type": "stream",
     "text": [
      "Jacobian dimensions: (4, 3)\n",
      "jH:[[-0.70710678 -0.70710678  0.        ]\n",
      " [ 0.01415094 -0.01415094 -1.        ]\n",
      " [-0.72655713 -0.68710606  0.        ]\n",
      " [ 0.01355353 -0.01433173 -1.        ]]\n"
     ]
    }
   ],
   "source": [
    "# TRY IT!\n",
    "\n",
    "observed_landmarks = np.array([0,2])\n",
    "xPred = np.vstack([-Size+Size/3, -Size+Size/3, np.pi/2]).flatten() # Robot predicted pose\n",
    "jH = getObsJac(xPred, observed_landmarks, Map) # Retrieve the evaluated observation jacobian\n",
    "\n",
    "print ('Jacobian dimensions: ' + str(jH.shape) )\n",
    "print ('jH:' + str(jH))"
   ]
  },
  {
   "cell_type": "markdown",
   "metadata": {},
   "source": [
    "<span style=\"color:blue\">Expected output:</span>\n",
    "\n",
    "```\n",
    "Jacobian dimensions: (4, 3)\n",
    "jH:[[-0.71075232 -0.70344235  0.        ]\n",
    " [ 0.01308328 -0.01321923 -1.        ]\n",
    " [-0.67304061 -0.73960552  0.        ]\n",
    " [ 0.01141455 -0.01038723 -1.        ]]\n",
    "```"
   ]
  },
  {
   "cell_type": "markdown",
   "metadata": {},
   "source": [
    "### **<span style=\"color:green\"><b><i>ASSIGNMENT 4: Completing the EKF</i></b></span>** \n",
    "\n",
    "Congratulations! You now have all the building blocks needed to implement an EKF filter (both prediction and correction steps) for localizating the robot and show the estimated pose and its uncertainty. \n",
    "\n",
    "For doing that, complete the `EKFLocalization()` function below, which returns:\n",
    "- the estimated pose (`xEst`), and \n",
    "- its associated uncertainty (`PEst`), \n",
    "\n",
    "given:\n",
    "- the previous estimations (`self.xEst` and `self.PEst` stored in `robot`), \n",
    "- the features of the sensor (`sensor`), \n",
    "- the motion command provided to the robot (`u`), \n",
    "- the observations done (`z`), \n",
    "- the indices of the observed landmarks (`landmark`), and \n",
    "- the map of the environment (`Map`)."
   ]
  },
  {
   "cell_type": "code",
   "execution_count": null,
   "metadata": {},
   "outputs": [],
   "source": [
    "def EKFLocalization(robot, sensor, u, z, landmark, Map):\n",
    "    \"\"\" Implement the EKF algorithm for localization\n",
    "        \n",
    "        Args:\n",
    "            robot: Robot base (contains the state: xEst and PEst)\n",
    "            sensor: Sensor of our robot.\n",
    "            u: Motion command\n",
    "            z: Observations received\n",
    "            landmark: Indices of landmarks observed in z\n",
    "            Map: Array with landmark coordinates in the map\n",
    "            \n",
    "        Returns:\n",
    "            xEst: New estimated pose\n",
    "            PEst: Covariance of the estimated pose\n",
    "    \"\"\"\n",
    "    \n",
    "    # Prediction \n",
    "    xPred = tcomp(robot.xEst, u)\n",
    "    G = J1(xPred, robot.xEst)\n",
    "    j2 = J2(xPred, u)\n",
    "    PPred = G @ robot.PEst @ G.T + j2 @ robot.cov_move @ j2.T\n",
    "    \n",
    "    # Correction (You need to compute the gain k and the innovation z-z_p) \n",
    "    if landmark.shape[0] > 0: \n",
    "        H = getObsJac(xPred, landmark, Map) # Observation Jacobian\n",
    "        K = PPred @ H.T @ np.linalg.pinv(H@PPred@H.T + np.diag(np.tile(np.diag(sensor.cov), landmark.shape[0])))\n",
    "        xEst = xPred + K @ (z-sensor.observe(xPred, Map[:, landmark], False)) # New estimat\n",
    "        PEst = (np.eye(3,3)-K@H)@PPred # New estimated Jacobian\n",
    "    else:\n",
    "        xEst = xPred\n",
    "        PEst = PPred\n",
    "    \n",
    "    return xEst, PEst"
   ]
  },
  {
   "cell_type": "markdown",
   "metadata": {},
   "source": [
    "You can **validate your code** with the code cell below."
   ]
  },
  {
   "cell_type": "code",
   "execution_count": 39,
   "metadata": {},
   "outputs": [
    {
     "ename": "IndexError",
     "evalue": "too many indices for array: array is 1-dimensional, but 2 were indexed",
     "output_type": "error",
     "traceback": [
      "\u001b[0;31m---------------------------------------------------------------------------\u001b[0m",
      "\u001b[0;31mIndexError\u001b[0m                                Traceback (most recent call last)",
      "Cell \u001b[0;32mIn[39], line 22\u001b[0m\n\u001b[1;32m     19\u001b[0m noisy_z, landmark_index \u001b[38;5;241m=\u001b[39m sensor\u001b[38;5;241m.\u001b[39mrandom_observation(true_pose, Map, noisy)\n\u001b[1;32m     21\u001b[0m \u001b[38;5;66;03m# Estimate the new robot pose using EKF!\u001b[39;00m\n\u001b[0;32m---> 22\u001b[0m robot\u001b[38;5;241m.\u001b[39mxEst, robot\u001b[38;5;241m.\u001b[39mPEst \u001b[38;5;241m=\u001b[39m \u001b[43mEKFLocalization\u001b[49m\u001b[43m(\u001b[49m\u001b[43mrobot\u001b[49m\u001b[43m,\u001b[49m\u001b[43m \u001b[49m\u001b[43msensor\u001b[49m\u001b[43m,\u001b[49m\u001b[43m \u001b[49m\u001b[43mu\u001b[49m\u001b[43m,\u001b[49m\u001b[43m \u001b[49m\u001b[43mnoisy_z\u001b[49m\u001b[43m,\u001b[49m\u001b[43m \u001b[49m\u001b[43mlandmark_index\u001b[49m\u001b[43m,\u001b[49m\u001b[43m \u001b[49m\u001b[43mMap\u001b[49m\u001b[43m)\u001b[49m\n\u001b[1;32m     24\u001b[0m \u001b[38;5;66;03m# Show resutls!\u001b[39;00m\n\u001b[1;32m     25\u001b[0m \u001b[38;5;28mprint\u001b[39m(\u001b[38;5;124m'\u001b[39m\u001b[38;5;124mrobot.pose.T:\u001b[39m\u001b[38;5;124m'\u001b[39m \u001b[38;5;241m+\u001b[39m \u001b[38;5;28mstr\u001b[39m(robot\u001b[38;5;241m.\u001b[39mpose\u001b[38;5;241m.\u001b[39mT) \u001b[38;5;241m+\u001b[39m \u001b[38;5;124m'\u001b[39m\u001b[38;5;130;01m\\'\u001b[39;00m\u001b[38;5;124m'\u001b[39m)\n",
      "Cell \u001b[0;32mIn[38], line 19\u001b[0m, in \u001b[0;36mEKFLocalization\u001b[0;34m(robot, sensor, u, z, landmark, Map)\u001b[0m\n\u001b[1;32m     17\u001b[0m \u001b[38;5;66;03m# Prediction \u001b[39;00m\n\u001b[1;32m     18\u001b[0m xPred \u001b[38;5;241m=\u001b[39m tcomp(robot\u001b[38;5;241m.\u001b[39mxEst, u)\u001b[38;5;241m.\u001b[39mflatten()\n\u001b[0;32m---> 19\u001b[0m G \u001b[38;5;241m=\u001b[39m \u001b[43mJ1\u001b[49m\u001b[43m(\u001b[49m\u001b[43mxPred\u001b[49m\u001b[43m,\u001b[49m\u001b[43m \u001b[49m\u001b[43mrobot\u001b[49m\u001b[38;5;241;43m.\u001b[39;49m\u001b[43mxEst\u001b[49m\u001b[43m)\u001b[49m\n\u001b[1;32m     20\u001b[0m j2 \u001b[38;5;241m=\u001b[39m J2(xPred, u)\n\u001b[1;32m     21\u001b[0m PPred \u001b[38;5;241m=\u001b[39m G \u001b[38;5;241m@\u001b[39m robot\u001b[38;5;241m.\u001b[39mPEst \u001b[38;5;241m@\u001b[39m G\u001b[38;5;241m.\u001b[39mT \u001b[38;5;241m+\u001b[39m j2 \u001b[38;5;241m@\u001b[39m robot\u001b[38;5;241m.\u001b[39mcov_move \u001b[38;5;241m@\u001b[39m j2\u001b[38;5;241m.\u001b[39mT\n",
      "File \u001b[0;32m~/Escritorio/Universidad/4Carrera/Robótica/Robotics_Practices/src/Chapter 05. Localization/../utils/Jacobians.py:4\u001b[0m, in \u001b[0;36mJ1\u001b[0;34m(x1, x2)\u001b[0m\n\u001b[1;32m      3\u001b[0m \u001b[38;5;28;01mdef\u001b[39;00m \u001b[38;5;21mJ1\u001b[39m(x1,x2):\n\u001b[0;32m----> 4\u001b[0m     s1 \u001b[38;5;241m=\u001b[39m sin(\u001b[43mx1\u001b[49m\u001b[43m[\u001b[49m\u001b[38;5;241;43m2\u001b[39;49m\u001b[43m,\u001b[49m\u001b[43m \u001b[49m\u001b[38;5;241;43m0\u001b[39;49m\u001b[43m]\u001b[49m)\n\u001b[1;32m      5\u001b[0m     c1 \u001b[38;5;241m=\u001b[39m cos(x1[\u001b[38;5;241m2\u001b[39m, \u001b[38;5;241m0\u001b[39m])\n\u001b[1;32m      6\u001b[0m     \u001b[38;5;28;01mreturn\u001b[39;00m vstack((\n\u001b[1;32m      7\u001b[0m             [\u001b[38;5;241m1\u001b[39m, \u001b[38;5;241m0\u001b[39m,  \u001b[38;5;241m-\u001b[39mx2[\u001b[38;5;241m0\u001b[39m,\u001b[38;5;241m0\u001b[39m]\u001b[38;5;241m*\u001b[39ms1\u001b[38;5;241m-\u001b[39mx2[\u001b[38;5;241m1\u001b[39m,\u001b[38;5;241m0\u001b[39m]\u001b[38;5;241m*\u001b[39mc1],\n\u001b[1;32m      8\u001b[0m             [\u001b[38;5;241m0\u001b[39m, \u001b[38;5;241m1\u001b[39m,  x2[\u001b[38;5;241m0\u001b[39m,\u001b[38;5;241m0\u001b[39m]\u001b[38;5;241m*\u001b[39mc1\u001b[38;5;241m-\u001b[39mx2[\u001b[38;5;241m1\u001b[39m,\u001b[38;5;241m0\u001b[39m]\u001b[38;5;241m*\u001b[39ms1],\n\u001b[1;32m      9\u001b[0m             [\u001b[38;5;241m0\u001b[39m, \u001b[38;5;241m0\u001b[39m, \u001b[38;5;241m1\u001b[39m]\n\u001b[1;32m     10\u001b[0m             ))\n",
      "\u001b[0;31mIndexError\u001b[0m: too many indices for array: array is 1-dimensional, but 2 were indexed"
     ]
    }
   ],
   "source": [
    "# TRY IT!\n",
    "\n",
    "np.random.seed(2)\n",
    "\n",
    "# Create the map\n",
    "Map=Size*2*random.rand(2,20)-Size\n",
    "\n",
    "# Create the Robot object\n",
    "true_pose = np.vstack([2,3,0])\n",
    "R = np.diag([0.1**2, 0.1**2, 0.01**2]) # Cov matrix\n",
    "robot = Robot(true_pose, R)\n",
    "\n",
    "# Perform a motion command\n",
    "u = np.vstack([10,0,0])\n",
    "robot.step(u)\n",
    "\n",
    "# Get an observation to a landmark\n",
    "noisy = True\n",
    "noisy_z, landmark_index = sensor.random_observation(true_pose, Map, noisy)\n",
    "\n",
    "# Estimate the new robot pose using EKF!\n",
    "robot.xEst, robot.PEst = EKFLocalization(robot, sensor, u, noisy_z, landmark_index, Map)\n",
    "\n",
    "# Show resutls!\n",
    "print('robot.pose.T:' + str(robot.pose.T) + '\\'')\n",
    "print('robot.true_pose.T:' + str(robot.true_pose.T) + '\\'')\n",
    "print('robot.xEst.T:' + str(robot.xEst.T) + '\\'')\n",
    "print('robot.PEst:' + str(robot.PEst.T))"
   ]
  },
  {
   "cell_type": "markdown",
   "metadata": {},
   "source": [
    "<span style=\"color:blue\">Expected output:</span>\n",
    "```\n",
    "robot.pose.T:[[12.  3.  0.]]'\n",
    "robot.true_pose.T:[[ 1.20000010e+01  3.05423526e+00 -3.13508197e-03]]'\n",
    "robot.xEst.T:[[ 1.19586407e+01  2.96047951e+00 -1.48514185e-04]]'\n",
    "robot.PEst:[[ 9.94877200e-03 -4.94253023e-05 -3.18283546e-08]\n",
    " [-4.94253023e-05  9.95211532e-03  3.29230513e-08]\n",
    " [-3.18283546e-08  3.29230513e-08  9.99795962e-05]]\n",
    "```"
   ]
  },
  {
   "cell_type": "markdown",
   "metadata": {},
   "source": [
    "## Playing with EKF\n",
    "\n",
    "The following code helps you to see the EKF filter in action!. Press any key on the emerging window to send a motion command to the robot and check how the landmark it observes changes, as well as its ideal, true and estimated poses. \n",
    "\n",
    "**Notice that** you can change the value of `seed` within the `main()`function to try different executions.\n",
    "\n",
    "**Example**\n",
    "\n",
    "The figure below shown an example of the execution of the EKF localization algorithm with the code implemented until this point.\n",
    "\n",
    "<figure style=\"text-align:center\">\n",
    "  <img src=\"images/fig5-2-1.png\" width=\"500\" alt=\"\">\n",
    "  <figcaption>\n",
    "      Fig. 1: Execution of the EKF algorithmn for localization, <br/>\n",
    "      it shows the true (in blue) and expected (in red) poses, <br/>\n",
    "      along the results from localization: pose and ellipse (in green), <br/>\n",
    "      the existing landmarks (in cyan), <br/>\n",
    "      and each observation made (dotted lines).\n",
    "  </figcaption>\n",
    "</figure>"
   ]
  },
  {
   "cell_type": "code",
   "execution_count": 19,
   "metadata": {},
   "outputs": [],
   "source": [
    "def main(robot,\n",
    "         sensor,\n",
    "         mode='one_landmark',\n",
    "         visualization = 'non_stop',\n",
    "         nSteps=20, # Number of motions\n",
    "         turning=5, # Number of motions before turning (square path)\n",
    "         Size=50.0,\n",
    "         NumLandmarks=10):\n",
    "\n",
    "    seed = 1\n",
    "    np.random.seed(seed)\n",
    "    \n",
    "    #Create map\n",
    "    Map=Size*2*random.rand(2,NumLandmarks)-Size\n",
    "    \n",
    "    # MATPLOTLIB\n",
    "    if visualization == 'non_stop':\n",
    "        %matplotlib widget\n",
    "    elif visualization == 'step_by_step':\n",
    "        #%matplotlib inline\n",
    "        matplotlib.use('TkAgg')\n",
    "        plt.ion()\n",
    "        \n",
    "    fig, ax = plt.subplots()\n",
    "    plt.plot(Map[0,:],Map[1,:],'sc')\n",
    "    plt.axis([-Size-15, Size+15, -Size-15, Size+15])\n",
    "    plt.title(mode)\n",
    "    \n",
    "    robot.draw(fig, ax)    \n",
    "    fig.canvas.draw()\n",
    "    \n",
    "    # MAIN LOOP\n",
    "    \n",
    "    u = np.vstack([(2*Size-2*Size/3)/turning,0,0]) # control action\n",
    "   \n",
    "    if visualization == 'step_by_step':\n",
    "        plt.waitforbuttonpress(-1)    \n",
    "        \n",
    "    for k in range(0, nSteps-3): # Main loop\n",
    "        u[2] = 0\n",
    "        if k % turning == turning-1: # Turn?\n",
    "            u[2] = -np.pi/2\n",
    "\n",
    "        robot.step(u)\n",
    "        \n",
    "        # Get sensor observation/s\n",
    "        if mode == 'one_landmark':\n",
    "            # DONE (Exercise 4)\n",
    "            z, landmark = sensor.random_observation(robot.true_pose, Map)\n",
    "            ax.plot(\n",
    "                [robot.true_pose[0,0], Map[0,landmark][0]],\n",
    "                [robot.true_pose[1,0], Map[1,landmark][0]],\n",
    "                color='m', linestyle=\"--\", linewidth=.5)\n",
    "        elif mode == 'landmarks_in_fov':\n",
    "            # DONE (Exercise 5)\n",
    "            z, landmark = sensor.observe_in_fov(robot.true_pose, Map)\n",
    "            drawObservations(fig, ax, robot.true_pose, Map[:, landmark])\n",
    "        \n",
    "        robot.xEst, robot.PEst = EKFLocalization(robot, sensor, u, z, landmark, Map)\n",
    "\n",
    "        # Drawings\n",
    "        # Plot the FOV of the robot\n",
    "        if mode == 'landmarks_in_fov':\n",
    "            h = sensor.draw(fig, ax, robot.true_pose)\n",
    "        #end\n",
    "\n",
    "        robot.draw(fig, ax)\n",
    "        fig.canvas.draw()\n",
    "        \n",
    "        if visualization == 'non_stop':\n",
    "            clear_output(wait=True)\n",
    "            display(fig)\n",
    "        elif visualization == 'step_by_step':\n",
    "            plt.waitforbuttonpress(-1)    \n",
    "\n",
    "        if mode == 'landmarks_in_fov':\n",
    "            h.pop(0).remove()\n",
    "        fig.canvas.draw()\n",
    "        \n",
    "    if visualization == 'non_stop':\n",
    "        plt.close()\n",
    "    elif visualization == 'step_by_step':\n",
    "        plt.ioff()"
   ]
  },
  {
   "cell_type": "code",
   "execution_count": 20,
   "metadata": {},
   "outputs": [
    {
     "ename": "ValueError",
     "evalue": "setting an array element with a sequence. The requested array would exceed the maximum number of dimension of 2.",
     "output_type": "error",
     "traceback": [
      "\u001b[0;31m---------------------------------------------------------------------------\u001b[0m",
      "\u001b[0;31mValueError\u001b[0m                                Traceback (most recent call last)",
      "Cell \u001b[0;32mIn[20], line 25\u001b[0m\n\u001b[1;32m     21\u001b[0m Q \u001b[38;5;241m=\u001b[39m np\u001b[38;5;241m.\u001b[39mdiag([SigmaR\u001b[38;5;241m*\u001b[39m\u001b[38;5;241m*\u001b[39m\u001b[38;5;241m2\u001b[39m, SigmaB\u001b[38;5;241m*\u001b[39m\u001b[38;5;241m*\u001b[39m\u001b[38;5;241m2\u001b[39m]) \u001b[38;5;66;03m# Cov matrix\u001b[39;00m\n\u001b[1;32m     23\u001b[0m sensor \u001b[38;5;241m=\u001b[39m Sensor(Q)\n\u001b[0;32m---> 25\u001b[0m \u001b[43mmain\u001b[49m\u001b[43m(\u001b[49m\u001b[43mrobot\u001b[49m\u001b[43m,\u001b[49m\u001b[43m \u001b[49m\u001b[43msensor\u001b[49m\u001b[43m,\u001b[49m\u001b[43m \u001b[49m\u001b[43mmode\u001b[49m\u001b[38;5;241;43m=\u001b[39;49m\u001b[43mmode\u001b[49m\u001b[43m,\u001b[49m\u001b[43m \u001b[49m\u001b[43mvisualization\u001b[49m\u001b[38;5;241;43m=\u001b[39;49m\u001b[43mvisualization\u001b[49m\u001b[43m,\u001b[49m\u001b[43m \u001b[49m\u001b[43mSize\u001b[49m\u001b[38;5;241;43m=\u001b[39;49m\u001b[43mSize\u001b[49m\u001b[43m)\u001b[49m\n",
      "Cell \u001b[0;32mIn[19], line 59\u001b[0m, in \u001b[0;36mmain\u001b[0;34m(robot, sensor, mode, visualization, nSteps, turning, Size, NumLandmarks)\u001b[0m\n\u001b[1;32m     56\u001b[0m     z, landmark \u001b[38;5;241m=\u001b[39m sensor\u001b[38;5;241m.\u001b[39mobserve_in_fov(robot\u001b[38;5;241m.\u001b[39mtrue_pose, Map)\n\u001b[1;32m     57\u001b[0m     drawObservations(fig, ax, robot\u001b[38;5;241m.\u001b[39mtrue_pose, Map[:, landmark])\n\u001b[0;32m---> 59\u001b[0m robot\u001b[38;5;241m.\u001b[39mxEst, robot\u001b[38;5;241m.\u001b[39mPEst \u001b[38;5;241m=\u001b[39m \u001b[43mEKFLocalization\u001b[49m\u001b[43m(\u001b[49m\u001b[43mrobot\u001b[49m\u001b[43m,\u001b[49m\u001b[43m \u001b[49m\u001b[43msensor\u001b[49m\u001b[43m,\u001b[49m\u001b[43m \u001b[49m\u001b[43mu\u001b[49m\u001b[43m,\u001b[49m\u001b[43m \u001b[49m\u001b[43mz\u001b[49m\u001b[43m,\u001b[49m\u001b[43m \u001b[49m\u001b[43mlandmark\u001b[49m\u001b[43m,\u001b[49m\u001b[43m \u001b[49m\u001b[43mMap\u001b[49m\u001b[43m)\u001b[49m\n\u001b[1;32m     61\u001b[0m \u001b[38;5;66;03m# Drawings\u001b[39;00m\n\u001b[1;32m     62\u001b[0m \u001b[38;5;66;03m# Plot the FOV of the robot\u001b[39;00m\n\u001b[1;32m     63\u001b[0m \u001b[38;5;28;01mif\u001b[39;00m mode \u001b[38;5;241m==\u001b[39m \u001b[38;5;124m'\u001b[39m\u001b[38;5;124mlandmarks_in_fov\u001b[39m\u001b[38;5;124m'\u001b[39m:\n",
      "Cell \u001b[0;32mIn[17], line 25\u001b[0m, in \u001b[0;36mEKFLocalization\u001b[0;34m(robot, sensor, u, z, landmark, Map)\u001b[0m\n\u001b[1;32m     23\u001b[0m \u001b[38;5;66;03m# Correction (You need to compute the gain k and the innovation z-z_p) \u001b[39;00m\n\u001b[1;32m     24\u001b[0m \u001b[38;5;28;01mif\u001b[39;00m landmark\u001b[38;5;241m.\u001b[39mshape[\u001b[38;5;241m0\u001b[39m] \u001b[38;5;241m>\u001b[39m \u001b[38;5;241m0\u001b[39m: \n\u001b[0;32m---> 25\u001b[0m     H \u001b[38;5;241m=\u001b[39m \u001b[43mgetObsJac\u001b[49m\u001b[43m(\u001b[49m\u001b[43mxPred\u001b[49m\u001b[43m,\u001b[49m\u001b[43m \u001b[49m\u001b[43mlandmark\u001b[49m\u001b[43m,\u001b[49m\u001b[43m \u001b[49m\u001b[43mMap\u001b[49m\u001b[43m)\u001b[49m \u001b[38;5;66;03m# Observation Jacobian\u001b[39;00m\n\u001b[1;32m     26\u001b[0m     K \u001b[38;5;241m=\u001b[39m PPred \u001b[38;5;241m@\u001b[39m H\u001b[38;5;241m.\u001b[39mT \u001b[38;5;241m@\u001b[39m np\u001b[38;5;241m.\u001b[39mlinalg\u001b[38;5;241m.\u001b[39mpinv(H\u001b[38;5;129m@PPred\u001b[39m\u001b[38;5;129m@H\u001b[39m\u001b[38;5;241m.\u001b[39mT \u001b[38;5;241m+\u001b[39m np\u001b[38;5;241m.\u001b[39mdiag(np\u001b[38;5;241m.\u001b[39mtile(np\u001b[38;5;241m.\u001b[39mdiag(sensor\u001b[38;5;241m.\u001b[39mcov), landmark\u001b[38;5;241m.\u001b[39mshape[\u001b[38;5;241m0\u001b[39m])))\n\u001b[1;32m     27\u001b[0m     xEst \u001b[38;5;241m=\u001b[39m xPred \u001b[38;5;241m+\u001b[39m K \u001b[38;5;241m@\u001b[39m (z\u001b[38;5;241m-\u001b[39msensor\u001b[38;5;241m.\u001b[39mobserve(xPred, Map[:, landmark], \u001b[38;5;28;01mFalse\u001b[39;00m)) \u001b[38;5;66;03m# New estimat\u001b[39;00m\n",
      "Cell \u001b[0;32mIn[15], line 23\u001b[0m, in \u001b[0;36mgetObsJac\u001b[0;34m(xPred, lm, Map)\u001b[0m\n\u001b[1;32m     20\u001b[0m     ii \u001b[38;5;241m=\u001b[39m \u001b[38;5;241m2\u001b[39m\u001b[38;5;241m*\u001b[39mi\n\u001b[1;32m     22\u001b[0m     \u001b[38;5;66;03m# Build the Jacobian\u001b[39;00m\n\u001b[0;32m---> 23\u001b[0m     \u001b[43mjH\u001b[49m\u001b[43m[\u001b[49m\u001b[43mii\u001b[49m\u001b[43m:\u001b[49m\u001b[43mii\u001b[49m\u001b[38;5;241;43m+\u001b[39;49m\u001b[38;5;241;43m2\u001b[39;49m\u001b[43m,\u001b[49m\u001b[43m:\u001b[49m\u001b[43m]\u001b[49m \u001b[38;5;241m=\u001b[39m [\n\u001b[1;32m     24\u001b[0m     [\u001b[38;5;241m-\u001b[39mdx\u001b[38;5;241m/\u001b[39md, \u001b[38;5;241m-\u001b[39mdy\u001b[38;5;241m/\u001b[39md, \u001b[38;5;241m0\u001b[39m],\n\u001b[1;32m     25\u001b[0m     [dy\u001b[38;5;241m/\u001b[39md2, \u001b[38;5;241m-\u001b[39mdx\u001b[38;5;241m/\u001b[39md2, \u001b[38;5;241m-\u001b[39m\u001b[38;5;241m1\u001b[39m]\n\u001b[1;32m     26\u001b[0m     ]\n\u001b[1;32m     27\u001b[0m \u001b[38;5;28;01mreturn\u001b[39;00m jH\n",
      "\u001b[0;31mValueError\u001b[0m: setting an array element with a sequence. The requested array would exceed the maximum number of dimension of 2."
     ]
    },
    {
     "data": {
      "application/vnd.jupyter.widget-view+json": {
       "model_id": "714d80aad59d469f854db39ebd1a0f70",
       "version_major": 2,
       "version_minor": 0
      },
      "image/png": "[encoded data removed]",
      "text/html": [
       "\n",
       "            <div style=\"display: inline-block;\">\n",
       "                <div class=\"jupyter-widgets widget-label\" style=\"text-align: center;\">\n",
       "                    Figure\n",
       "                </div>\n",
       "                <img src='data:image/png;base64,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' width=640.0/>\n",
       "            </div>\n",
       "        "
      ],
      "text/plain": [
       "Canvas(toolbar=Toolbar(toolitems=[('Home', 'Reset original view', 'home', 'home'), ('Back', 'Back to previous …"
      ]
     },
     "metadata": {},
     "output_type": "display_data"
    }
   ],
   "source": [
    "# RUN\n",
    "mode = 'one_landmark'\n",
    "# mode = 'landmarks_in_fov'\n",
    "visualization = 'non_stop'\n",
    "#visualization = 'step_by_step'\n",
    "\n",
    "Size=50.0\n",
    "\n",
    "# Robot base characterization\n",
    "SigmaX = 0.8 # Standard deviation in the x axis\n",
    "SigmaY = 0.8 # Standard deviation in the y axis\n",
    "SigmaTheta = 0.1 # Bearing standar deviation\n",
    "R = np.diag([SigmaX**2, SigmaY**2, SigmaTheta**2]) # Cov matrix\n",
    "\n",
    "true_pose = np.vstack([-Size+Size/3, -Size+Size/3, np.pi/2])\n",
    "robot = Robot(true_pose, R)\n",
    "\n",
    "# Sensor characterization\n",
    "SigmaR = 1 # Standard deviation of the range\n",
    "SigmaB = 0.7 # Standard deviation of the bearing\n",
    "Q = np.diag([SigmaR**2, SigmaB**2]) # Cov matrix\n",
    "\n",
    "sensor = Sensor(Q)\n",
    "\n",
    "main(robot, sensor, mode=mode, visualization=visualization, Size=Size)"
   ]
  },
  {
   "cell_type": "markdown",
   "metadata": {},
   "source": [
    "### **<span style=\"color:green\"><b><i>ASSIGNMENT 5:  Implementing the FoV of a sensor.</i></b></span>** \n",
    "\n",
    "Sensors exhibit certain physical limitations regarding their field of view (FoV) and maximum operating distance (max. Range). Besides, these devices often do not deliver measurmenets from just one landmark each time, but from all those landmarks in the FoV. \n",
    "\n",
    "The `FOVSensor()` class below extends the `Sensor()` one to implement this behaviour. Complete the `observe_in_fov()` method to consider that the sensor can only provide information from the landmkars in a limited range $r_l$ and a limited orientation $\\pm \\alpha$ with respect to the robot pose. For that:\n",
    "\n",
    "1. Get the observations to every landmark in the map. Use the `observe()` function previously implemented for that, but with the argument `flatten=False`. With that option the function returns the measurements as:\n",
    "$$\n",
    "z = \\begin{bmatrix} d_1 &  \\cdots &  d_m \\\\ \\theta_1 & \\cdots & \\theta_m \\end{bmatrix}\n",
    "$$\n",
    "2. Check which observations lay in the sensor FoV and maximum operating distance. *Hint: for that, you can use the [`np.asarray()`](https://docs.scipy.org/doc/numpy/reference/generated/numpy.asarray.html) function with the conditions to be fulfilled by the valid measurements inside, and then filter the results with [`np.nonzero()`](https://docs.scipy.org/doc/numpy/reference/generated/numpy.nonzero.html)*. \n",
    "3. Flatten the resultant matrix `z` to be again a vector, so it has the shape $(2 \\times \\#Observed\\_landmarks,1)$. *Hint: take a look at [`np.ndarray.flatten()`](https://docs.scipy.org/doc/numpy/reference/generated/numpy.ndarray.flatten.html) and choose the proper argument.*\n",
    "\n",
    "Notice that it could happen that any landmark exists in the field of view of the sensor, so the robot couldn’t gather sensory information in that iteration. This, which is a problem using Least Squares Positioning, is not an issue with EKF. ***Hint: you can change the value of `seed` within the `main()`function to try different executions.***"
   ]
  },
  {
   "cell_type": "code",
   "execution_count": 21,
   "metadata": {},
   "outputs": [],
   "source": [
    "class FOVSensor(Sensor):\n",
    "    def __init__(self, cov, fov, max_range):\n",
    "        super().__init__(cov)\n",
    "        self.fov = fov\n",
    "        self.max_range = max_range\n",
    "    \n",
    "    def observe_in_fov(self, from_pose, world, noisy=True):\n",
    "        \"\"\" Get all observations in the fov\n",
    "\n",
    "        Args:\n",
    "            from_pose: Position(real) of the robot which takes the observation\n",
    "            world: List of world coordinates of some landmarks\n",
    "            noisy: Flag, if true then add noise (Exercise 2)\n",
    "\n",
    "        Returns:\n",
    "            Numpy array of polar coordinates of landmarks from the perspective of our robot\n",
    "            They are organised in a vertical vector ls = [d_0 , a_0, d_1, ..., a_n]'\n",
    "            Dims (2*n_landmarks, 1) \n",
    "        \"\"\"                \n",
    "        # 1. Get observations to every landmark in the map WITHOUT NOISE\n",
    "        z = self.observe(from_pose, world, False, False)\n",
    "        \n",
    "        # 2. Check which ones lay on the sensor FOV\n",
    "        angle_limit = self.fov/2 # auxiliar variable\n",
    "        feats_idx = None # indices of the valid observations    \n",
    "                \n",
    "        if noisy:\n",
    "            # 1. Get observations to every landmark in the map WITH NOISE\n",
    "            z = self.observe(from_pose, world, True, False)\n",
    "            \n",
    "        z = z[:, feats_idx] # extracts the valid observations from z\n",
    "               \n",
    "        # 3. Flatten the  resultant vector of measurements so z=[d_1,theta_1,d_2,theta_2,...,d_n,theta_n]   \n",
    "        if z.size>0:\n",
    "            z = np.vstack(z.flatten('F'))\n",
    "            \n",
    "        return z, feats_idx\n",
    "    \n",
    "    def draw(self, fig, ax, from_pose):\n",
    "        \"\"\" Draws the Field of View of the sensor from the robot pose \"\"\"\n",
    "        return drawFOV(fig, ax, from_pose, self.fov, self.max_range)   "
   ]
  },
  {
   "cell_type": "markdown",
   "metadata": {},
   "source": [
    "You can now **try** your new and more realistic sensor."
   ]
  },
  {
   "cell_type": "code",
   "execution_count": 22,
   "metadata": {},
   "outputs": [
    {
     "name": "stdout",
     "output_type": "stream",
     "text": [
      "z:[[ 1.17640523]\n",
      " [ 0.1867558 ]\n",
      " [ 1.84279136]\n",
      " [ 0.49027482]\n",
      " [ 2.64738356]\n",
      " [-0.10238672]\n",
      " [ 1.80522815]\n",
      " [ 1.87741116]]\n"
     ]
    },
    {
     "ename": "ValueError",
     "evalue": "setting an array element with a sequence. The requested array has an inhomogeneous shape after 1 dimensions. The detected shape was (2,) + inhomogeneous part.",
     "output_type": "error",
     "traceback": [
      "\u001b[0;31m---------------------------------------------------------------------------\u001b[0m",
      "\u001b[0;31mValueError\u001b[0m                                Traceback (most recent call last)",
      "Cell \u001b[0;32mIn[22], line 24\u001b[0m\n\u001b[1;32m     22\u001b[0m plt\u001b[38;5;241m.\u001b[39mplot(Map[\u001b[38;5;241m0\u001b[39m,:],Map[\u001b[38;5;241m1\u001b[39m,:],\u001b[38;5;124m'\u001b[39m\u001b[38;5;124msc\u001b[39m\u001b[38;5;124m'\u001b[39m)\n\u001b[1;32m     23\u001b[0m sensor\u001b[38;5;241m.\u001b[39mdraw(fig, ax, robot_pose)\n\u001b[0;32m---> 24\u001b[0m \u001b[43mdrawObservations\u001b[49m\u001b[43m(\u001b[49m\u001b[43mfig\u001b[49m\u001b[43m,\u001b[49m\u001b[43m \u001b[49m\u001b[43max\u001b[49m\u001b[43m,\u001b[49m\u001b[43m \u001b[49m\u001b[43mrobot_pose\u001b[49m\u001b[43m,\u001b[49m\u001b[43m \u001b[49m\u001b[43mMap\u001b[49m\u001b[43m[\u001b[49m\u001b[43m:\u001b[49m\u001b[43m,\u001b[49m\u001b[43m \u001b[49m\u001b[43mfeats_idx\u001b[49m\u001b[43m]\u001b[49m\u001b[43m)\u001b[49m\n\u001b[1;32m     25\u001b[0m DrawRobot(fig,ax,robot_pose)\n",
      "File \u001b[0;32m~/Escritorio/Universidad/4Carrera/Robótica/Robotics_Practices/src/Chapter 05. Localization/../utils/Drawings.py:64\u001b[0m, in \u001b[0;36mdrawObservations\u001b[0;34m(fig, ax, from_pose, world, linestyle, **kwargs)\u001b[0m\n\u001b[1;32m     62\u001b[0m \u001b[38;5;28;01mfor\u001b[39;00m i \u001b[38;5;129;01min\u001b[39;00m \u001b[38;5;28mrange\u001b[39m(world\u001b[38;5;241m.\u001b[39mshape[\u001b[38;5;241m1\u001b[39m]):\n\u001b[1;32m     63\u001b[0m     \u001b[38;5;28;01mif\u001b[39;00m i \u001b[38;5;241m>\u001b[39m\u001b[38;5;241m=\u001b[39m\u001b[38;5;241m0\u001b[39m:\n\u001b[0;32m---> 64\u001b[0m         \u001b[43max\u001b[49m\u001b[38;5;241;43m.\u001b[39;49m\u001b[43mplot\u001b[49m\u001b[43m(\u001b[49m\n\u001b[1;32m     65\u001b[0m \u001b[43m            \u001b[49m\u001b[43m[\u001b[49m\u001b[43mfrom_pose\u001b[49m\u001b[43m[\u001b[49m\u001b[38;5;241;43m0\u001b[39;49m\u001b[43m,\u001b[49m\u001b[43m \u001b[49m\u001b[38;5;241;43m0\u001b[39;49m\u001b[43m]\u001b[49m\u001b[43m,\u001b[49m\u001b[43m \u001b[49m\u001b[43mworld\u001b[49m\u001b[43m[\u001b[49m\u001b[38;5;241;43m0\u001b[39;49m\u001b[43m,\u001b[49m\u001b[43m \u001b[49m\u001b[43mi\u001b[49m\u001b[43m]\u001b[49m\u001b[43m]\u001b[49m\u001b[43m,\u001b[49m\n\u001b[1;32m     66\u001b[0m \u001b[43m            \u001b[49m\u001b[43m[\u001b[49m\u001b[43mfrom_pose\u001b[49m\u001b[43m[\u001b[49m\u001b[38;5;241;43m1\u001b[39;49m\u001b[43m,\u001b[49m\u001b[43m \u001b[49m\u001b[38;5;241;43m0\u001b[39;49m\u001b[43m]\u001b[49m\u001b[43m,\u001b[49m\u001b[43m \u001b[49m\u001b[43mworld\u001b[49m\u001b[43m[\u001b[49m\u001b[38;5;241;43m1\u001b[39;49m\u001b[43m,\u001b[49m\u001b[43m \u001b[49m\u001b[43mi\u001b[49m\u001b[43m]\u001b[49m\u001b[43m]\u001b[49m\u001b[43m,\u001b[49m\n\u001b[1;32m     67\u001b[0m \u001b[43m            \u001b[49m\u001b[43mlinestyle\u001b[49m\u001b[38;5;241;43m=\u001b[39;49m\u001b[43mlinestyle\u001b[49m\u001b[43m,\u001b[49m\n\u001b[1;32m     68\u001b[0m \u001b[43m            \u001b[49m\u001b[38;5;241;43m*\u001b[39;49m\u001b[38;5;241;43m*\u001b[39;49m\u001b[43mkwargs\u001b[49m\n\u001b[1;32m     69\u001b[0m \u001b[43m    \u001b[49m\u001b[43m)\u001b[49m\n",
      "File \u001b[0;32m~/Escritorio/Universidad/4Carrera/Robótica/Robotics_Practices/venv/lib/python3.12/site-packages/matplotlib/axes/_axes.py:1779\u001b[0m, in \u001b[0;36mAxes.plot\u001b[0;34m(self, scalex, scaley, data, *args, **kwargs)\u001b[0m\n\u001b[1;32m   1536\u001b[0m \u001b[38;5;250m\u001b[39m\u001b[38;5;124;03m\"\"\"\u001b[39;00m\n\u001b[1;32m   1537\u001b[0m \u001b[38;5;124;03mPlot y versus x as lines and/or markers.\u001b[39;00m\n\u001b[1;32m   1538\u001b[0m \n\u001b[0;32m   (...)\u001b[0m\n\u001b[1;32m   1776\u001b[0m \u001b[38;5;124;03m(``'green'``) or hex strings (``'#008000'``).\u001b[39;00m\n\u001b[1;32m   1777\u001b[0m \u001b[38;5;124;03m\"\"\"\u001b[39;00m\n\u001b[1;32m   1778\u001b[0m kwargs \u001b[38;5;241m=\u001b[39m cbook\u001b[38;5;241m.\u001b[39mnormalize_kwargs(kwargs, mlines\u001b[38;5;241m.\u001b[39mLine2D)\n\u001b[0;32m-> 1779\u001b[0m lines \u001b[38;5;241m=\u001b[39m [\u001b[38;5;241m*\u001b[39m\u001b[38;5;28mself\u001b[39m\u001b[38;5;241m.\u001b[39m_get_lines(\u001b[38;5;28mself\u001b[39m, \u001b[38;5;241m*\u001b[39margs, data\u001b[38;5;241m=\u001b[39mdata, \u001b[38;5;241m*\u001b[39m\u001b[38;5;241m*\u001b[39mkwargs)]\n\u001b[1;32m   1780\u001b[0m \u001b[38;5;28;01mfor\u001b[39;00m line \u001b[38;5;129;01min\u001b[39;00m lines:\n\u001b[1;32m   1781\u001b[0m     \u001b[38;5;28mself\u001b[39m\u001b[38;5;241m.\u001b[39madd_line(line)\n",
      "File \u001b[0;32m~/Escritorio/Universidad/4Carrera/Robótica/Robotics_Practices/venv/lib/python3.12/site-packages/matplotlib/axes/_base.py:296\u001b[0m, in \u001b[0;36m_process_plot_var_args.__call__\u001b[0;34m(self, axes, data, *args, **kwargs)\u001b[0m\n\u001b[1;32m    294\u001b[0m     this \u001b[38;5;241m+\u001b[39m\u001b[38;5;241m=\u001b[39m args[\u001b[38;5;241m0\u001b[39m],\n\u001b[1;32m    295\u001b[0m     args \u001b[38;5;241m=\u001b[39m args[\u001b[38;5;241m1\u001b[39m:]\n\u001b[0;32m--> 296\u001b[0m \u001b[38;5;28;01myield from\u001b[39;00m \u001b[38;5;28;43mself\u001b[39;49m\u001b[38;5;241;43m.\u001b[39;49m\u001b[43m_plot_args\u001b[49m\u001b[43m(\u001b[49m\n\u001b[1;32m    297\u001b[0m \u001b[43m    \u001b[49m\u001b[43maxes\u001b[49m\u001b[43m,\u001b[49m\u001b[43m \u001b[49m\u001b[43mthis\u001b[49m\u001b[43m,\u001b[49m\u001b[43m \u001b[49m\u001b[43mkwargs\u001b[49m\u001b[43m,\u001b[49m\u001b[43m \u001b[49m\u001b[43mambiguous_fmt_datakey\u001b[49m\u001b[38;5;241;43m=\u001b[39;49m\u001b[43mambiguous_fmt_datakey\u001b[49m\u001b[43m)\u001b[49m\n",
      "File \u001b[0;32m~/Escritorio/Universidad/4Carrera/Robótica/Robotics_Practices/venv/lib/python3.12/site-packages/matplotlib/axes/_base.py:475\u001b[0m, in \u001b[0;36m_process_plot_var_args._plot_args\u001b[0;34m(self, axes, tup, kwargs, return_kwargs, ambiguous_fmt_datakey)\u001b[0m\n\u001b[1;32m    472\u001b[0m         kw[prop_name] \u001b[38;5;241m=\u001b[39m val\n\u001b[1;32m    474\u001b[0m \u001b[38;5;28;01mif\u001b[39;00m \u001b[38;5;28mlen\u001b[39m(xy) \u001b[38;5;241m==\u001b[39m \u001b[38;5;241m2\u001b[39m:\n\u001b[0;32m--> 475\u001b[0m     x \u001b[38;5;241m=\u001b[39m \u001b[43m_check_1d\u001b[49m\u001b[43m(\u001b[49m\u001b[43mxy\u001b[49m\u001b[43m[\u001b[49m\u001b[38;5;241;43m0\u001b[39;49m\u001b[43m]\u001b[49m\u001b[43m)\u001b[49m\n\u001b[1;32m    476\u001b[0m     y \u001b[38;5;241m=\u001b[39m _check_1d(xy[\u001b[38;5;241m1\u001b[39m])\n\u001b[1;32m    477\u001b[0m \u001b[38;5;28;01melse\u001b[39;00m:\n",
      "File \u001b[0;32m~/Escritorio/Universidad/4Carrera/Robótica/Robotics_Practices/venv/lib/python3.12/site-packages/matplotlib/cbook.py:1411\u001b[0m, in \u001b[0;36m_check_1d\u001b[0;34m(x)\u001b[0m\n\u001b[1;32m   1405\u001b[0m \u001b[38;5;66;03m# plot requires `shape` and `ndim`.  If passed an\u001b[39;00m\n\u001b[1;32m   1406\u001b[0m \u001b[38;5;66;03m# object that doesn't provide them, then force to numpy array.\u001b[39;00m\n\u001b[1;32m   1407\u001b[0m \u001b[38;5;66;03m# Note this will strip unit information.\u001b[39;00m\n\u001b[1;32m   1408\u001b[0m \u001b[38;5;28;01mif\u001b[39;00m (\u001b[38;5;129;01mnot\u001b[39;00m \u001b[38;5;28mhasattr\u001b[39m(x, \u001b[38;5;124m'\u001b[39m\u001b[38;5;124mshape\u001b[39m\u001b[38;5;124m'\u001b[39m) \u001b[38;5;129;01mor\u001b[39;00m\n\u001b[1;32m   1409\u001b[0m         \u001b[38;5;129;01mnot\u001b[39;00m \u001b[38;5;28mhasattr\u001b[39m(x, \u001b[38;5;124m'\u001b[39m\u001b[38;5;124mndim\u001b[39m\u001b[38;5;124m'\u001b[39m) \u001b[38;5;129;01mor\u001b[39;00m\n\u001b[1;32m   1410\u001b[0m         \u001b[38;5;28mlen\u001b[39m(x\u001b[38;5;241m.\u001b[39mshape) \u001b[38;5;241m<\u001b[39m \u001b[38;5;241m1\u001b[39m):\n\u001b[0;32m-> 1411\u001b[0m     \u001b[38;5;28;01mreturn\u001b[39;00m \u001b[43mnp\u001b[49m\u001b[38;5;241;43m.\u001b[39;49m\u001b[43matleast_1d\u001b[49m\u001b[43m(\u001b[49m\u001b[43mx\u001b[49m\u001b[43m)\u001b[49m\n\u001b[1;32m   1412\u001b[0m \u001b[38;5;28;01melse\u001b[39;00m:\n\u001b[1;32m   1413\u001b[0m     \u001b[38;5;28;01mreturn\u001b[39;00m x\n",
      "File \u001b[0;32m~/Escritorio/Universidad/4Carrera/Robótica/Robotics_Practices/venv/lib/python3.12/site-packages/numpy/_core/shape_base.py:64\u001b[0m, in \u001b[0;36matleast_1d\u001b[0;34m(*arys)\u001b[0m\n\u001b[1;32m     24\u001b[0m \u001b[38;5;250m\u001b[39m\u001b[38;5;124;03m\"\"\"\u001b[39;00m\n\u001b[1;32m     25\u001b[0m \u001b[38;5;124;03mConvert inputs to arrays with at least one dimension.\u001b[39;00m\n\u001b[1;32m     26\u001b[0m \n\u001b[0;32m   (...)\u001b[0m\n\u001b[1;32m     61\u001b[0m \n\u001b[1;32m     62\u001b[0m \u001b[38;5;124;03m\"\"\"\u001b[39;00m\n\u001b[1;32m     63\u001b[0m \u001b[38;5;28;01mif\u001b[39;00m \u001b[38;5;28mlen\u001b[39m(arys) \u001b[38;5;241m==\u001b[39m \u001b[38;5;241m1\u001b[39m:\n\u001b[0;32m---> 64\u001b[0m     result \u001b[38;5;241m=\u001b[39m \u001b[43masanyarray\u001b[49m\u001b[43m(\u001b[49m\u001b[43marys\u001b[49m\u001b[43m[\u001b[49m\u001b[38;5;241;43m0\u001b[39;49m\u001b[43m]\u001b[49m\u001b[43m)\u001b[49m\n\u001b[1;32m     65\u001b[0m     \u001b[38;5;28;01mif\u001b[39;00m result\u001b[38;5;241m.\u001b[39mndim \u001b[38;5;241m==\u001b[39m \u001b[38;5;241m0\u001b[39m:\n\u001b[1;32m     66\u001b[0m         result \u001b[38;5;241m=\u001b[39m result\u001b[38;5;241m.\u001b[39mreshape(\u001b[38;5;241m1\u001b[39m)\n",
      "\u001b[0;31mValueError\u001b[0m: setting an array element with a sequence. The requested array has an inhomogeneous shape after 1 dimensions. The detected shape was (2,) + inhomogeneous part."
     ]
    },
    {
     "data": {
      "application/vnd.jupyter.widget-view+json": {
       "model_id": "3f51856b24024141b7d592522fa94499",
       "version_major": 2,
       "version_minor": 0
      },
      "image/png": "[encoded data removed]",
      "text/html": [
       "\n",
       "            <div style=\"display: inline-block;\">\n",
       "                <div class=\"jupyter-widgets widget-label\" style=\"text-align: center;\">\n",
       "                    Figure\n",
       "                </div>\n",
       "                <img src='data:image/png;base64,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' width=640.0/>\n",
       "            </div>\n",
       "        "
      ],
      "text/plain": [
       "Canvas(toolbar=Toolbar(toolitems=[('Home', 'Reset original view', 'home', 'home'), ('Back', 'Back to previous …"
      ]
     },
     "metadata": {},
     "output_type": "display_data"
    }
   ],
   "source": [
    "# TRY IT!\n",
    "np.random.seed(0)\n",
    "\n",
    "# Create the sensor object\n",
    "cov = np.diag([0.1**2, 0.1**2]) # Cov matrix\n",
    "fov = np.pi/2\n",
    "max_range = 2\n",
    "sensor = FOVSensor(cov, fov, max_range)\n",
    "\n",
    "# Create a map with three landmarks\n",
    "Map = np.array([[2., 2.5, 3.5, 0.5],[2., 3., 1.5, 3.5]])\n",
    "\n",
    "# Take an observation of landmarks in FoV\n",
    "robot_pose = np.vstack([1.,2.,0.])\n",
    "z, feats_idx = sensor.observe_in_fov(robot_pose, Map)\n",
    "print('z:' +str(z))\n",
    "\n",
    "# Plot results\n",
    "fig, ax = plt.subplots()\n",
    "plt.axis([0, 5, 0, 5])\n",
    "plt.title('Measuremets to landmarks in sensor FOV')\n",
    "plt.plot(Map[0,:],Map[1,:],'sc')\n",
    "sensor.draw(fig, ax, robot_pose)\n",
    "drawObservations(fig, ax, robot_pose, Map[:, feats_idx])\n",
    "DrawRobot(fig,ax,robot_pose)"
   ]
  },
  {
   "cell_type": "markdown",
   "metadata": {},
   "source": [
    "<span style=\"color:blue\">Expected output:</span>\n",
    "    \n",
    "```\n",
    "z:[[1.17640523]\n",
    " [0.1867558 ]\n",
    " [1.84279136]\n",
    " [0.49027482]]\n",
    "```    "
   ]
  },
  {
   "cell_type": "markdown",
   "metadata": {},
   "source": [
    "## Playing with EKF and the new sensor\n",
    "\n",
    "And finally, play with your own FULL implementation of the EKF filter with a more realistic sensor :)\n",
    "\n",
    "**Example**\n",
    "\n",
    "The figure below shows an example of the execution of EKF using information from all the landmarks within the FOV:\n",
    "\n",
    "<figure style=\"text-align:center\">\n",
    "  <img src=\"images/fig5-2-2.png\" width=\"500\" alt=\"\">\n",
    "  <figcaption>\n",
    "      Fig. 2: Execution of the EKF algorithmn for localization. <br/>\n",
    "      Same as in Fig. 1, except now our robot can observe every <br/> \n",
    "      lanmark in its f.o.v. \n",
    "  </figcaption>\n",
    "</figure>"
   ]
  },
  {
   "cell_type": "code",
   "execution_count": 23,
   "metadata": {},
   "outputs": [
    {
     "ename": "ValueError",
     "evalue": "setting an array element with a sequence. The requested array has an inhomogeneous shape after 1 dimensions. The detected shape was (2,) + inhomogeneous part.",
     "output_type": "error",
     "traceback": [
      "\u001b[0;31m---------------------------------------------------------------------------\u001b[0m",
      "\u001b[0;31mValueError\u001b[0m                                Traceback (most recent call last)",
      "Cell \u001b[0;32mIn[23], line 26\u001b[0m\n\u001b[1;32m     22\u001b[0m max_range \u001b[38;5;241m=\u001b[39m Size \u001b[38;5;66;03m# maximum sensor measurement range\u001b[39;00m\n\u001b[1;32m     24\u001b[0m sensor \u001b[38;5;241m=\u001b[39m FOVSensor(Q, fov, max_range)\n\u001b[0;32m---> 26\u001b[0m \u001b[43mmain\u001b[49m\u001b[43m(\u001b[49m\u001b[43mrobot\u001b[49m\u001b[43m,\u001b[49m\u001b[43m \u001b[49m\u001b[43msensor\u001b[49m\u001b[43m,\u001b[49m\u001b[43m \u001b[49m\u001b[43mmode\u001b[49m\u001b[38;5;241;43m=\u001b[39;49m\u001b[43mmode\u001b[49m\u001b[43m,\u001b[49m\u001b[43m \u001b[49m\u001b[43mvisualization\u001b[49m\u001b[38;5;241;43m=\u001b[39;49m\u001b[43mvisualization\u001b[49m\u001b[43m,\u001b[49m\u001b[43m \u001b[49m\u001b[43mSize\u001b[49m\u001b[38;5;241;43m=\u001b[39;49m\u001b[43mSize\u001b[49m\u001b[43m)\u001b[49m\n",
      "Cell \u001b[0;32mIn[19], line 57\u001b[0m, in \u001b[0;36mmain\u001b[0;34m(robot, sensor, mode, visualization, nSteps, turning, Size, NumLandmarks)\u001b[0m\n\u001b[1;32m     54\u001b[0m \u001b[38;5;28;01melif\u001b[39;00m mode \u001b[38;5;241m==\u001b[39m \u001b[38;5;124m'\u001b[39m\u001b[38;5;124mlandmarks_in_fov\u001b[39m\u001b[38;5;124m'\u001b[39m:\n\u001b[1;32m     55\u001b[0m     \u001b[38;5;66;03m# DONE (Exercise 5)\u001b[39;00m\n\u001b[1;32m     56\u001b[0m     z, landmark \u001b[38;5;241m=\u001b[39m sensor\u001b[38;5;241m.\u001b[39mobserve_in_fov(robot\u001b[38;5;241m.\u001b[39mtrue_pose, Map)\n\u001b[0;32m---> 57\u001b[0m     \u001b[43mdrawObservations\u001b[49m\u001b[43m(\u001b[49m\u001b[43mfig\u001b[49m\u001b[43m,\u001b[49m\u001b[43m \u001b[49m\u001b[43max\u001b[49m\u001b[43m,\u001b[49m\u001b[43m \u001b[49m\u001b[43mrobot\u001b[49m\u001b[38;5;241;43m.\u001b[39;49m\u001b[43mtrue_pose\u001b[49m\u001b[43m,\u001b[49m\u001b[43m \u001b[49m\u001b[43mMap\u001b[49m\u001b[43m[\u001b[49m\u001b[43m:\u001b[49m\u001b[43m,\u001b[49m\u001b[43m \u001b[49m\u001b[43mlandmark\u001b[49m\u001b[43m]\u001b[49m\u001b[43m)\u001b[49m\n\u001b[1;32m     59\u001b[0m robot\u001b[38;5;241m.\u001b[39mxEst, robot\u001b[38;5;241m.\u001b[39mPEst \u001b[38;5;241m=\u001b[39m EKFLocalization(robot, sensor, u, z, landmark, Map)\n\u001b[1;32m     61\u001b[0m \u001b[38;5;66;03m# Drawings\u001b[39;00m\n\u001b[1;32m     62\u001b[0m \u001b[38;5;66;03m# Plot the FOV of the robot\u001b[39;00m\n",
      "File \u001b[0;32m~/Escritorio/Universidad/4Carrera/Robótica/Robotics_Practices/src/Chapter 05. Localization/../utils/Drawings.py:64\u001b[0m, in \u001b[0;36mdrawObservations\u001b[0;34m(fig, ax, from_pose, world, linestyle, **kwargs)\u001b[0m\n\u001b[1;32m     62\u001b[0m \u001b[38;5;28;01mfor\u001b[39;00m i \u001b[38;5;129;01min\u001b[39;00m \u001b[38;5;28mrange\u001b[39m(world\u001b[38;5;241m.\u001b[39mshape[\u001b[38;5;241m1\u001b[39m]):\n\u001b[1;32m     63\u001b[0m     \u001b[38;5;28;01mif\u001b[39;00m i \u001b[38;5;241m>\u001b[39m\u001b[38;5;241m=\u001b[39m\u001b[38;5;241m0\u001b[39m:\n\u001b[0;32m---> 64\u001b[0m         \u001b[43max\u001b[49m\u001b[38;5;241;43m.\u001b[39;49m\u001b[43mplot\u001b[49m\u001b[43m(\u001b[49m\n\u001b[1;32m     65\u001b[0m \u001b[43m            \u001b[49m\u001b[43m[\u001b[49m\u001b[43mfrom_pose\u001b[49m\u001b[43m[\u001b[49m\u001b[38;5;241;43m0\u001b[39;49m\u001b[43m,\u001b[49m\u001b[43m \u001b[49m\u001b[38;5;241;43m0\u001b[39;49m\u001b[43m]\u001b[49m\u001b[43m,\u001b[49m\u001b[43m \u001b[49m\u001b[43mworld\u001b[49m\u001b[43m[\u001b[49m\u001b[38;5;241;43m0\u001b[39;49m\u001b[43m,\u001b[49m\u001b[43m \u001b[49m\u001b[43mi\u001b[49m\u001b[43m]\u001b[49m\u001b[43m]\u001b[49m\u001b[43m,\u001b[49m\n\u001b[1;32m     66\u001b[0m \u001b[43m            \u001b[49m\u001b[43m[\u001b[49m\u001b[43mfrom_pose\u001b[49m\u001b[43m[\u001b[49m\u001b[38;5;241;43m1\u001b[39;49m\u001b[43m,\u001b[49m\u001b[43m \u001b[49m\u001b[38;5;241;43m0\u001b[39;49m\u001b[43m]\u001b[49m\u001b[43m,\u001b[49m\u001b[43m \u001b[49m\u001b[43mworld\u001b[49m\u001b[43m[\u001b[49m\u001b[38;5;241;43m1\u001b[39;49m\u001b[43m,\u001b[49m\u001b[43m \u001b[49m\u001b[43mi\u001b[49m\u001b[43m]\u001b[49m\u001b[43m]\u001b[49m\u001b[43m,\u001b[49m\n\u001b[1;32m     67\u001b[0m \u001b[43m            \u001b[49m\u001b[43mlinestyle\u001b[49m\u001b[38;5;241;43m=\u001b[39;49m\u001b[43mlinestyle\u001b[49m\u001b[43m,\u001b[49m\n\u001b[1;32m     68\u001b[0m \u001b[43m            \u001b[49m\u001b[38;5;241;43m*\u001b[39;49m\u001b[38;5;241;43m*\u001b[39;49m\u001b[43mkwargs\u001b[49m\n\u001b[1;32m     69\u001b[0m \u001b[43m    \u001b[49m\u001b[43m)\u001b[49m\n",
      "File \u001b[0;32m~/Escritorio/Universidad/4Carrera/Robótica/Robotics_Practices/venv/lib/python3.12/site-packages/matplotlib/axes/_axes.py:1779\u001b[0m, in \u001b[0;36mAxes.plot\u001b[0;34m(self, scalex, scaley, data, *args, **kwargs)\u001b[0m\n\u001b[1;32m   1536\u001b[0m \u001b[38;5;250m\u001b[39m\u001b[38;5;124;03m\"\"\"\u001b[39;00m\n\u001b[1;32m   1537\u001b[0m \u001b[38;5;124;03mPlot y versus x as lines and/or markers.\u001b[39;00m\n\u001b[1;32m   1538\u001b[0m \n\u001b[0;32m   (...)\u001b[0m\n\u001b[1;32m   1776\u001b[0m \u001b[38;5;124;03m(``'green'``) or hex strings (``'#008000'``).\u001b[39;00m\n\u001b[1;32m   1777\u001b[0m \u001b[38;5;124;03m\"\"\"\u001b[39;00m\n\u001b[1;32m   1778\u001b[0m kwargs \u001b[38;5;241m=\u001b[39m cbook\u001b[38;5;241m.\u001b[39mnormalize_kwargs(kwargs, mlines\u001b[38;5;241m.\u001b[39mLine2D)\n\u001b[0;32m-> 1779\u001b[0m lines \u001b[38;5;241m=\u001b[39m [\u001b[38;5;241m*\u001b[39m\u001b[38;5;28mself\u001b[39m\u001b[38;5;241m.\u001b[39m_get_lines(\u001b[38;5;28mself\u001b[39m, \u001b[38;5;241m*\u001b[39margs, data\u001b[38;5;241m=\u001b[39mdata, \u001b[38;5;241m*\u001b[39m\u001b[38;5;241m*\u001b[39mkwargs)]\n\u001b[1;32m   1780\u001b[0m \u001b[38;5;28;01mfor\u001b[39;00m line \u001b[38;5;129;01min\u001b[39;00m lines:\n\u001b[1;32m   1781\u001b[0m     \u001b[38;5;28mself\u001b[39m\u001b[38;5;241m.\u001b[39madd_line(line)\n",
      "File \u001b[0;32m~/Escritorio/Universidad/4Carrera/Robótica/Robotics_Practices/venv/lib/python3.12/site-packages/matplotlib/axes/_base.py:296\u001b[0m, in \u001b[0;36m_process_plot_var_args.__call__\u001b[0;34m(self, axes, data, *args, **kwargs)\u001b[0m\n\u001b[1;32m    294\u001b[0m     this \u001b[38;5;241m+\u001b[39m\u001b[38;5;241m=\u001b[39m args[\u001b[38;5;241m0\u001b[39m],\n\u001b[1;32m    295\u001b[0m     args \u001b[38;5;241m=\u001b[39m args[\u001b[38;5;241m1\u001b[39m:]\n\u001b[0;32m--> 296\u001b[0m \u001b[38;5;28;01myield from\u001b[39;00m \u001b[38;5;28;43mself\u001b[39;49m\u001b[38;5;241;43m.\u001b[39;49m\u001b[43m_plot_args\u001b[49m\u001b[43m(\u001b[49m\n\u001b[1;32m    297\u001b[0m \u001b[43m    \u001b[49m\u001b[43maxes\u001b[49m\u001b[43m,\u001b[49m\u001b[43m \u001b[49m\u001b[43mthis\u001b[49m\u001b[43m,\u001b[49m\u001b[43m \u001b[49m\u001b[43mkwargs\u001b[49m\u001b[43m,\u001b[49m\u001b[43m \u001b[49m\u001b[43mambiguous_fmt_datakey\u001b[49m\u001b[38;5;241;43m=\u001b[39;49m\u001b[43mambiguous_fmt_datakey\u001b[49m\u001b[43m)\u001b[49m\n",
      "File \u001b[0;32m~/Escritorio/Universidad/4Carrera/Robótica/Robotics_Practices/venv/lib/python3.12/site-packages/matplotlib/axes/_base.py:475\u001b[0m, in \u001b[0;36m_process_plot_var_args._plot_args\u001b[0;34m(self, axes, tup, kwargs, return_kwargs, ambiguous_fmt_datakey)\u001b[0m\n\u001b[1;32m    472\u001b[0m         kw[prop_name] \u001b[38;5;241m=\u001b[39m val\n\u001b[1;32m    474\u001b[0m \u001b[38;5;28;01mif\u001b[39;00m \u001b[38;5;28mlen\u001b[39m(xy) \u001b[38;5;241m==\u001b[39m \u001b[38;5;241m2\u001b[39m:\n\u001b[0;32m--> 475\u001b[0m     x \u001b[38;5;241m=\u001b[39m \u001b[43m_check_1d\u001b[49m\u001b[43m(\u001b[49m\u001b[43mxy\u001b[49m\u001b[43m[\u001b[49m\u001b[38;5;241;43m0\u001b[39;49m\u001b[43m]\u001b[49m\u001b[43m)\u001b[49m\n\u001b[1;32m    476\u001b[0m     y \u001b[38;5;241m=\u001b[39m _check_1d(xy[\u001b[38;5;241m1\u001b[39m])\n\u001b[1;32m    477\u001b[0m \u001b[38;5;28;01melse\u001b[39;00m:\n",
      "File \u001b[0;32m~/Escritorio/Universidad/4Carrera/Robótica/Robotics_Practices/venv/lib/python3.12/site-packages/matplotlib/cbook.py:1411\u001b[0m, in \u001b[0;36m_check_1d\u001b[0;34m(x)\u001b[0m\n\u001b[1;32m   1405\u001b[0m \u001b[38;5;66;03m# plot requires `shape` and `ndim`.  If passed an\u001b[39;00m\n\u001b[1;32m   1406\u001b[0m \u001b[38;5;66;03m# object that doesn't provide them, then force to numpy array.\u001b[39;00m\n\u001b[1;32m   1407\u001b[0m \u001b[38;5;66;03m# Note this will strip unit information.\u001b[39;00m\n\u001b[1;32m   1408\u001b[0m \u001b[38;5;28;01mif\u001b[39;00m (\u001b[38;5;129;01mnot\u001b[39;00m \u001b[38;5;28mhasattr\u001b[39m(x, \u001b[38;5;124m'\u001b[39m\u001b[38;5;124mshape\u001b[39m\u001b[38;5;124m'\u001b[39m) \u001b[38;5;129;01mor\u001b[39;00m\n\u001b[1;32m   1409\u001b[0m         \u001b[38;5;129;01mnot\u001b[39;00m \u001b[38;5;28mhasattr\u001b[39m(x, \u001b[38;5;124m'\u001b[39m\u001b[38;5;124mndim\u001b[39m\u001b[38;5;124m'\u001b[39m) \u001b[38;5;129;01mor\u001b[39;00m\n\u001b[1;32m   1410\u001b[0m         \u001b[38;5;28mlen\u001b[39m(x\u001b[38;5;241m.\u001b[39mshape) \u001b[38;5;241m<\u001b[39m \u001b[38;5;241m1\u001b[39m):\n\u001b[0;32m-> 1411\u001b[0m     \u001b[38;5;28;01mreturn\u001b[39;00m \u001b[43mnp\u001b[49m\u001b[38;5;241;43m.\u001b[39;49m\u001b[43matleast_1d\u001b[49m\u001b[43m(\u001b[49m\u001b[43mx\u001b[49m\u001b[43m)\u001b[49m\n\u001b[1;32m   1412\u001b[0m \u001b[38;5;28;01melse\u001b[39;00m:\n\u001b[1;32m   1413\u001b[0m     \u001b[38;5;28;01mreturn\u001b[39;00m x\n",
      "File \u001b[0;32m~/Escritorio/Universidad/4Carrera/Robótica/Robotics_Practices/venv/lib/python3.12/site-packages/numpy/_core/shape_base.py:64\u001b[0m, in \u001b[0;36matleast_1d\u001b[0;34m(*arys)\u001b[0m\n\u001b[1;32m     24\u001b[0m \u001b[38;5;250m\u001b[39m\u001b[38;5;124;03m\"\"\"\u001b[39;00m\n\u001b[1;32m     25\u001b[0m \u001b[38;5;124;03mConvert inputs to arrays with at least one dimension.\u001b[39;00m\n\u001b[1;32m     26\u001b[0m \n\u001b[0;32m   (...)\u001b[0m\n\u001b[1;32m     61\u001b[0m \n\u001b[1;32m     62\u001b[0m \u001b[38;5;124;03m\"\"\"\u001b[39;00m\n\u001b[1;32m     63\u001b[0m \u001b[38;5;28;01mif\u001b[39;00m \u001b[38;5;28mlen\u001b[39m(arys) \u001b[38;5;241m==\u001b[39m \u001b[38;5;241m1\u001b[39m:\n\u001b[0;32m---> 64\u001b[0m     result \u001b[38;5;241m=\u001b[39m \u001b[43masanyarray\u001b[49m\u001b[43m(\u001b[49m\u001b[43marys\u001b[49m\u001b[43m[\u001b[49m\u001b[38;5;241;43m0\u001b[39;49m\u001b[43m]\u001b[49m\u001b[43m)\u001b[49m\n\u001b[1;32m     65\u001b[0m     \u001b[38;5;28;01mif\u001b[39;00m result\u001b[38;5;241m.\u001b[39mndim \u001b[38;5;241m==\u001b[39m \u001b[38;5;241m0\u001b[39m:\n\u001b[1;32m     66\u001b[0m         result \u001b[38;5;241m=\u001b[39m result\u001b[38;5;241m.\u001b[39mreshape(\u001b[38;5;241m1\u001b[39m)\n",
      "\u001b[0;31mValueError\u001b[0m: setting an array element with a sequence. The requested array has an inhomogeneous shape after 1 dimensions. The detected shape was (2,) + inhomogeneous part."
     ]
    },
    {
     "data": {
      "application/vnd.jupyter.widget-view+json": {
       "model_id": "61a01cc131d74cd78962f564de3a388d",
       "version_major": 2,
       "version_minor": 0
      },
      "image/png": "[encoded data removed]",
      "text/html": [
       "\n",
       "            <div style=\"display: inline-block;\">\n",
       "                <div class=\"jupyter-widgets widget-label\" style=\"text-align: center;\">\n",
       "                    Figure\n",
       "                </div>\n",
       "                <img src='data:image/png;base64,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' width=640.0/>\n",
       "            </div>\n",
       "        "
      ],
      "text/plain": [
       "Canvas(toolbar=Toolbar(toolitems=[('Home', 'Reset original view', 'home', 'home'), ('Back', 'Back to previous …"
      ]
     },
     "metadata": {},
     "output_type": "display_data"
    }
   ],
   "source": [
    "# RUN\n",
    "#mode = 'one_landmark'\n",
    "mode = 'landmarks_in_fov'\n",
    "visualization = 'non_stop'\n",
    "#visualization = 'step_by_step' \n",
    "Size=50.0\n",
    "\n",
    "# Robot base characterization\n",
    "SigmaX = 0.8 # Standard deviation in the x axis\n",
    "SigmaY = 0.8 # Standard deviation in the y axis\n",
    "SigmaTheta = 0.1 # Bearing standar deviation\n",
    "R = np.diag([SigmaX**2, SigmaY**2, SigmaTheta**2]) # Cov matrix\n",
    "\n",
    "true_pose = np.vstack([-Size+Size/3, -Size+Size/3, np.pi/2])\n",
    "robot = Robot(true_pose, R)\n",
    "\n",
    "# Sensor characterization\n",
    "SigmaR = 1 # Standard deviation of the range\n",
    "SigmaB = 0.7 # Standard deviation of the bearing\n",
    "Q = np.diag([SigmaR**2, SigmaB**2]) # Cov matrix\n",
    "fov = np.pi/2 # field of view = 2*alpha\n",
    "max_range = Size # maximum sensor measurement range\n",
    "\n",
    "sensor = FOVSensor(Q, fov, max_range)\n",
    "\n",
    "main(robot, sensor, mode=mode, visualization=visualization, Size=Size)"
   ]
  },
  {
   "cell_type": "markdown",
   "metadata": {},
   "source": [
    "### <font color=\"blue\"><b><i>Thinking about it (1)</i></b></font>\n",
    "\n",
    "Having completed the EKF implementation, you are ready to **answer the following questions**:\n",
    "\n",
    "- What are the dimensions of the Jacobians of the observation model (matrix H)?  Why?\n",
    "\n",
    "    <p style=\"margin: 4px 0px 6px 5px; color:blue\"><i>Your answer here!</i></p>\n",
    "\n",
    "- Discuss the evolution of the ideal, true and estimated poses when executing the EKF filter (with the initial sensor).\n",
    "\n",
    "    <p style=\"margin: 4px 0px 6px 5px; color:blue\"><i>Your answer here!</i></p>\n",
    "\n",
    "- Discuss the evolution of the ideal, true and estimated poses when executing the EKF filter (with the sensor implementing a FOV). Pay special attention to their associated uncertainties. \n",
    "\n",
    "    <p style=\"margin: 4px 0px 6px 5px; color:blue\"><i>Your answer here!</i></p>\n",
    "\n",
    "- What happens in the EKF filter when the robot performs a motion command, but it is unable to measure distances to any landmark, i.e. they are out of the sensor FOV?\n",
    "\n",
    "    <p style=\"margin: 4px 0px 6px 5px; color:blue\"><i>Your answer here!</i></p>"
   ]
  }
 ],
 "metadata": {
  "kernelspec": {
   "display_name": "venv",
   "language": "python",
   "name": "python3"
  },
  "language_info": {
   "codemirror_mode": {
    "name": "ipython",
    "version": 3
   },
   "file_extension": ".py",
   "mimetype": "text/x-python",
   "name": "python",
   "nbconvert_exporter": "python",
   "pygments_lexer": "ipython3",
   "version": "3.12.3"
  }
 },
 "nbformat": 4,
 "nbformat_minor": 4
}

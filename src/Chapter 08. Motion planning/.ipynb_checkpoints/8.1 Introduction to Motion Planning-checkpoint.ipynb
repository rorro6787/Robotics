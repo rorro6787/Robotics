{
 "cells": [
  {
   "cell_type": "markdown",
   "metadata": {},
   "source": [
    "# 8. Introduction to Motion Planning\n",
    "\n",
    "Given a robot able to build a map of its workspace as well as to localize itself in such a map, the next step for being operational is to provide the algorithms to reach a given destination, i.e. to plan how to reach a goal point and safely complete such navigation. In the real world this is complicated by various factors, e.g. the geometry of the robot, the variability of the obstacles, the non-holonomic constraints of the movement, etc. \n",
    "\n",
    "Two major concepts are related with this *planning and navigation* idea:\n",
    "\n",
    "- **Path planning**\n",
    "  - Pursues how to get from point A to point B.\n",
    "  - Factor like time and robot kinematics or cinematics are not considered.\n",
    "- **Motion planning**\n",
    "  - In charge of computing speed and turning commands to be sent to the robot (non-holonomic constraints apply) to follow a desired trajectory. \n",
    "  - Explicit consideration of time (considers a trajectory instead of a path). This is interesting, for example, where two robots are operating in the same space. \n",
    "  \n",
    "<figure style=\"text-align:center\">\n",
    "  <img src=\"images/motion-planning.png\" alt=\"\">\n",
    "  <figcaption>\n",
    "      Fig. 1: Main actors in the Motion planning concept.\n",
    "  </figcaption>\n",
    "</figure>\n",
    "\n",
    "They are different concepts, but sometimes both terms are used as synonymous. \n",
    "\n",
    "Usually, motion planning is further decomposed into two problems:\n",
    "\n",
    "- **Global navigation**: Which uses the available map to find a sequence of movements to reach the goal (it finds a sequence of waypoints between the start and the goal). It is also called **roadmap navigation** since it could be viewed as a kind of topological map that represents a set of paths (roads) between two points in the environment that the robot can travel on without collision.\n",
    "  - *Input*: the whole (known) map.\n",
    "  - *Techniques*: search method for global finding of a (optimal) path to the goal (e.g. A*).\n",
    "    - Bug algorithm.\n",
    "    - Visibility graph. \n",
    "    - Generalized Voronoi Diagram.\n",
    "    - Cell decomposition.\n",
    "    - Probabilistic Road Map.\n",
    "    \n",
    "- **Local reactive navigation**: Which uses sensor information to avoid the obstacles in the robot's path, even those which don't appear in the map, that is, it navigates between consecutive waypints while avoiding obstacles.\n",
    "  - Works at a high-frequency (i.e. real time).\n",
    "  - *Input*: sensor current observation.\n",
    "  - *Techniques*:\n",
    "    - Virtual Force Field (VFF).\n",
    "    - Vector Field Histogram (VFH).\n",
    "    - Dynamic window.\n",
    "    - PT-space (developed at **UMA**). \n",
    "\n",
    "\n",
    "<figure style=\"text-align:center\">\n",
    "  <img src=\"images/roadmap_planning.png\" alt=\"\">\n",
    "  <figcaption>\n",
    "      Fig. 2: Example of navigation using Roadmaps. The global navigation set a number of waypoints (red dots) between the start and the goal that are travesable by the robot (dotted red lines), while the local reactive navigation (dotted blue lines) goes from one waypoint to the next one avoiding obstacles.\n",
    "  </figcaption>\n",
    "</figure>"
   ]
  },
  {
   "cell_type": "markdown",
   "metadata": {},
   "source": [
    "## <span style=\"color:green\">OPTIONAL</span>\n",
    "\n",
    "<span style=\"color:green\">Surf the internet looking for more general information about Motion Planning. You can include additional definitions, examples, images, videos,... anything you find interesting!</span>"
   ]
  },
  {
   "cell_type": "markdown",
   "metadata": {},
   "source": [
    "Motion planning is a cornerstone of robotics, involving the calculation of a sequence of feasible robot configurations to move from a starting position to a desired destination while avoiding obstacles and respecting movement constraints. This capability is essential for enabling robots to function autonomously and effectively in intricate, ever-changing environments.\n",
    "\n",
    "**Fundamental Concepts in Motion Planning:**\n",
    "\n",
    "- **Configuration Space (C-Space):** This concept represents all possible positions and orientations a robot can achieve, where each point corresponds to a unique robot configuration. By translating the physical environment into this abstract space, motion planning algorithms can identify paths more efficiently.\n",
    "\n",
    "- **Free Space (C_free) and Obstacle Space (C_obs):** In C-Space, C_free is the set of configurations where the robot avoids collisions, while C_obs includes configurations that result in collisions. The goal of motion planning is to chart a collision-free path through C_free, connecting the start and goal configurations.\n",
    "\n",
    "**Types of Motion Planning Algorithms:**\n",
    "\n",
    "1. **Grid-Based Approaches:**\n",
    "   - **A***: This algorithm utilizes a heuristic search to identify the shortest path on a grid-based representation of the environment. It works well for lower-dimensional problems but becomes resource-intensive as dimensions increase.\n",
    "\n",
    "2. **Sampling-Based Approaches:**\n",
    "   - **Probabilistic Roadmap (PRM):** This method samples configurations randomly to construct a graph or roadmap of the free space. The graph is then used to find a path from the start to the goal.\n",
    "   - **Rapidly-exploring Random Tree (RRT):** RRT incrementally explores the C-Space by building a tree structure, making it an effective choice for tackling complex, high-dimensional problems.\n",
    "\n",
    "**Real-World Applications of Motion Planning:**\n",
    "\n",
    "- **Autonomous Navigation:** Enables robots, such as autonomous vehicles, to travel from one location to another while avoiding obstacles and adhering to rules like traffic laws.\n",
    "\n",
    "- **Robotic Manipulation:** Assists robotic arms in planning precise, collision-free movements for tasks like assembly, painting, or surgical procedures.\n",
    "\n",
    "- **Animation and Video Games:** Enhances the realistic movement of characters by determining paths that avoid collisions and satisfy physical constraints.\n",
    "\n",
    "**Challenges in Motion Planning:**\n",
    "\n",
    "- **High-Dimensional Configuration Spaces:** Robots with numerous degrees of freedom, such as humanoids, pose computational challenges due to the vast dimensionality of their C-Spaces.\n",
    "\n",
    "- **Dynamic Environments:** In settings with moving obstacles, robots must adapt their plans in real time to maintain collision-free operation.\n",
    "\n",
    "- **Non-Holonomic Constraints:** Some robots, like cars, have movement limitations (e.g., inability to move sideways), which must be incorporated into their planning.\n",
    "\n",
    "Ongoing advancements in motion planning are integrating machine learning and other innovative techniques to improve adaptability and efficiency, broadening robotics' capabilities and applications across a wide range of fields."
   ]
  },
  {
   "cell_type": "markdown",
   "metadata": {},
   "source": [
    "<span style=\"color:green\">***END OF OPTIONAL PART***</span>"
   ]
  }
 ],
 "metadata": {
  "kernelspec": {
   "display_name": "Python 3 (ipykernel)",
   "language": "python",
   "name": "python3"
  },
  "language_info": {
   "codemirror_mode": {
    "name": "ipython",
    "version": 3
   },
   "file_extension": ".py",
   "mimetype": "text/x-python",
   "name": "python",
   "nbconvert_exporter": "python",
   "pygments_lexer": "ipython3",
   "version": "3.10.7"
  }
 },
 "nbformat": 4,
 "nbformat_minor": 4
}

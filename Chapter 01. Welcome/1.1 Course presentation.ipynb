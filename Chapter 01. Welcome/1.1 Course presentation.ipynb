{
 "cells": [
  {
   "cell_type": "markdown",
   "id": "1ce18697-9a4c-4e4c-85eb-934cc42e3d71",
   "metadata": {
    "tags": []
   },
   "source": [
    "# An introduction to the (uncertain) world of mobile robots \n",
    "\n",
    "A **mobile robot** is a device equipped with locomotion and sensory systems designed to perform tasks autonomously or in collaboration with humans. During operation, the robot must localize itself within the environment, navigate safely through it, and make decisions based on past, present, and in some cases, predicted future data. It may sound straightforward, but there is an undesired companion in this party: **uncertainty**.\n",
    "\n",
    "<figure style=\"text-align:center\">\n",
    "  <img src=\"./images/dall-e_course_presentation.png\" width=\"600\">\n",
    "</figure> \n",
    "\n",
    "There are various sources of uncertainty. For example, when the robot moves through its environment, it follows a series of **motion commands**. For instance, the command could be to move at a linear speed of 0.1 m/s for five seconds. In theory, after completing this motion, the robot should have moved half a meter in a straight line. However, the actual movement is affected by multiple factors: motor response, floor type, wheel pressure, slipping, etc. Therefore, the robot may not move exactly that distance but rather something close to it, like 0.45 m or 0.53 m. \n",
    "\n",
    "<figure style=\"text-align:center\">\n",
    "  <img src=\"./images/ideal_and_true_path.PNG\" width=\"450\">\n",
    "  <figcaption>Fig. 1: Example of ideal (red) and true (blue) paths followed by a robot, represented by its intermediate poses.</figcaption>\n",
    "</figure> \n",
    "\n",
    "In practice, this means that although the motion commands give a good indication of how far the robot has moved, additional information and algorithms are required to refine this estimation. Accurate motion estimation is critical for proper localization and navigation in the workspace.\n",
    "\n",
    "Another strong source of information comes from the **sensors** used to perceive the environment. These sensors work in the basis of different physical phenomenas which are also influenced by environmental conditions. A clear example of this are lasser scanners, which work by projecting an infrarred beam and calculate distances to obtacles by measuring the time that the beam takes to come back to the sensor after bouncing on them. This working principle is influenced by factors like the physical propertios of objects (color, surface type, etc.), environmental conditions like lighting, humidity, temperature, etc., the performance of the sensor electronics, etc. This way, is an obstacle is placed two meters away of the sensor, instead of delivering a measure of 2m, it will probably returns 1.9m, 2.15m, etc. This accuracy also depends on the sensor quality. The following figure illustrates this scenario.\n",
    "\n",
    "<figure style=\"text-align:center\">\n",
    "  <img src=\"./images/laser_measurement_without_noise.png\" width=\"300\"><img src=\"./images/laser_measurement_with_noise.png\" width=\"300\">\n",
    "  <figcaption>Fig. 2: Left, example of a robot using an ideal laser to take measurements of the environment. Right, the same robot using a real laser.</figcaption>\n",
    "</figure> \n",
    "\n",
    "Sensors are useful so the robot can be aware of its surroundings, and help in tasks like localization, navigation, object detection, etc. This way, their uncertain behaviour must be also considered in the algorithms commanding the robot.\n",
    "\n",
    "Another significant source of information comes from the **sensors** the robot uses to perceive its environment. These sensors operate based on diverse physical phenomena, which are also subject to different conditions. A clear example is laser scanners, which project an infrared beam and calculate the distance to obstacles by measuring the time the beam takes to return after bouncing off an object. This working principle is influenced by factors such as the physical properties of objects (color, surface texture, etc.), environmental conditions like lighting, humidity, and temperature, as well as the performance of the sensor electronics. For example, if an obstacle is two meters away from the sensor, instead of measuring exactly 2 meters, the sensor might return values like 1.9 m or 2.15 m. This accuracy also depends on the sensor quality. Sensors enable the robot to be aware of its surroundings and assist in tasks like localization, navigation, and object detection. Therefore, their uncertain behavior must also be considered by the robot's control algorithms.\n",
    "\n",
    "Other sources of uncertainty could be:\n",
    "- **Model uncertainty** refers to inaccuracies in the mathematical models used to represent the robot's motion or environment. These models are often simplifications of reality and might not account for all physical effects like drag, friction, or dynamic interactions with the environment. \n",
    "- **Environmental uncertainty** is also present, since the environment itself can be unpredictable. Objects can move, lighting conditions can change, or obstacles can appear unexpectedly. Dynamic environments, such as crowded areas, introduce uncertainties that are hard to predict or model. \n",
    "- **Computational Uncertainty** arises since the performance of the robot's algorithms can be influenced by limited processing power or delayed computation, especially in real-time systems. These delays can lead to outdated information being used in decision-making.\n",
    "\n",
    "In summary, the perception and operation of a mobile robot are heavily influenced by various sources of uncertainty. These uncertainties must be carefully considered to ensure the robot can successfully accomplish its tasks. **This course** will explore **core concepts** from statistics (Gaussian distributions, Bayes' rule, etc.), mathematics (matrix operations, Jacobians, etc.), and computer science (functions, algorithms, software architectures) to model uncertainty and understand mobile robot operation, mainly its localization and navigation.\n",
    "\n",
    "This is just the beginning of our journey, enjoy it!"
   ]
  }
 ],
 "metadata": {
  "kernelspec": {
   "display_name": "Python 3 (ipykernel)",
   "language": "python",
   "name": "python3"
  },
  "language_info": {
   "codemirror_mode": {
    "name": "ipython",
    "version": 3
   },
   "file_extension": ".py",
   "mimetype": "text/x-python",
   "name": "python",
   "nbconvert_exporter": "python",
   "pygments_lexer": "ipython3",
   "version": "3.10.7"
  }
 },
 "nbformat": 4,
 "nbformat_minor": 5
}
